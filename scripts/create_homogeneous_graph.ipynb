{
 "cells": [
  {
   "cell_type": "code",
   "execution_count": null,
   "id": "65db9178",
   "metadata": {},
   "outputs": [],
   "source": [
    "import pandas as pd\n",
    "import torch\n",
    "from torch_geometric.data import Data\n",
    "import numpy as np"
   ]
  },
  {
   "cell_type": "code",
   "execution_count": 8,
   "id": "b4cc9bd0",
   "metadata": {},
   "outputs": [],
   "source": [
    "lnctard_dataset = pd.read_csv(\"../data/filtered_lnctard.tsv\", sep=\"\\t\", header=0)\n",
    "biobert_embeddings_dict = np.load(\n",
    "    \"../data/all_biobert_embeddings_128_dim.npy\", allow_pickle=True\n",
    ").item()"
   ]
  },
  {
   "cell_type": "code",
   "execution_count": 9,
   "id": "a4d8793c",
   "metadata": {},
   "outputs": [],
   "source": [
    "name_type_dict = {}\n",
    "for _, row in lnctard_dataset.iterrows():\n",
    "    name_type_dict[row[\"Regulator\"]] = row[\"RegulatorType\"]\n",
    "    name_type_dict[row[\"Target\"]] = row[\"TargetType\"]"
   ]
  },
  {
   "cell_type": "code",
   "execution_count": 10,
   "id": "403161f3",
   "metadata": {},
   "outputs": [],
   "source": [
    "EMBEDDING_DIM = 128"
   ]
  },
  {
   "cell_type": "code",
   "execution_count": 13,
   "id": "9113012c",
   "metadata": {},
   "outputs": [],
   "source": [
    "def create_regulatory_graph(df, biobert_embeddings_dict, name_type_dict):\n",
    "    all_nodes = set()\n",
    "    all_nodes.update(df[\"Regulator\"].unique())\n",
    "    all_nodes.update(df[\"Target\"].unique())\n",
    "    all_nodes = list(all_nodes)\n",
    "    node_to_idx = {node: idx for idx, node in enumerate(all_nodes)}\n",
    "\n",
    "    node_features = []\n",
    "    node_types = []\n",
    "    for node in all_nodes:\n",
    "        embedding = biobert_embeddings_dict.get(node, np.zeros(EMBEDDING_DIM))\n",
    "        embedding = embedding / np.linalg.norm(embedding)\n",
    "        node_type = name_type_dict.get(node, \"unknown\")\n",
    "        node_features.append(embedding)\n",
    "        node_types.append(node_type)\n",
    "\n",
    "    node_features = torch.tensor(np.array(node_features), dtype=torch.float)\n",
    "    type_categories = [\"miRNA\", \"PCG\", \"TF\", \"lncRNA\", \"snoRNA\", \"circRNA\"]\n",
    "    node_type_features = []\n",
    "    for node_type in node_types:\n",
    "        type_vec = [1 if node_type == cat else 0 for cat in type_categories]\n",
    "        if node_type not in type_categories:\n",
    "            type_vec.append(1)\n",
    "        else:\n",
    "            type_vec.append(0)\n",
    "        node_type_features.append(type_vec)\n",
    "    node_type_features = torch.tensor(node_type_features, dtype=torch.float)\n",
    "    node_features = torch.cat([node_features, node_type_features], dim=1)\n",
    "\n",
    "    edge_index = []\n",
    "    for _, row in df.iterrows():\n",
    "        regulator_idx = node_to_idx[row[\"Regulator\"]]\n",
    "        target_idx = node_to_idx[row[\"Target\"]]\n",
    "        edge_index.append([regulator_idx, target_idx])\n",
    "    edge_index = torch.tensor(edge_index, dtype=torch.long).t().contiguous()\n",
    "\n",
    "    edge_attr = []\n",
    "    for _, row in df.iterrows():\n",
    "        cancer_type = row[\"DiseaseName2\"]\n",
    "        cancer_categories = [\"Lung cancer\", \"Brain glioma\", \"Pancreatic cancer\"]\n",
    "        cancer_vec = [1 if cancer_type == cat else 0 for cat in cancer_categories]\n",
    "        if cancer_type not in cancer_categories:\n",
    "            cancer_vec.append(1)\n",
    "        else:\n",
    "            cancer_vec.append(0)\n",
    "        regulation_dir = row[\"RegulationDiretion\"]\n",
    "        regulation_categories = [\n",
    "            \"negatively-F\",\n",
    "            \"negatively-E\",\n",
    "            \"positively-E\",\n",
    "            \"positively-F\",\n",
    "            \"interact\",\n",
    "        ]\n",
    "        regulation_vec = [\n",
    "            1 if regulation_dir == cat else 0 for cat in regulation_categories\n",
    "        ]\n",
    "        if regulation_dir not in regulation_categories:\n",
    "            regulation_vec.append(1)\n",
    "        else:\n",
    "            regulation_vec.append(0)\n",
    "        expression_pattern = row[\"ExpressionPattern\"]\n",
    "        expression_categories = [\"upregulation\", \"downregulation\"]\n",
    "        expression_vec = [\n",
    "            1 if expression_pattern == cat else 0 for cat in expression_categories\n",
    "        ]\n",
    "        if expression_pattern not in expression_categories:\n",
    "            expression_vec.append(1)\n",
    "        else:\n",
    "            expression_vec.append(0)\n",
    "        edge_attr_vec = cancer_vec + regulation_vec + expression_vec\n",
    "        edge_attr.append(edge_attr_vec)\n",
    "    edge_attr = torch.tensor(edge_attr, dtype=torch.float)\n",
    "\n",
    "    data = Data(x=node_features, edge_index=edge_index, edge_attr=edge_attr)\n",
    "\n",
    "    data.node_names = all_nodes\n",
    "    data.node_to_idx = node_to_idx\n",
    "    data.num_nodes = len(all_nodes)\n",
    "    data.num_edges = len(df)\n",
    "    return data"
   ]
  },
  {
   "cell_type": "code",
   "execution_count": 14,
   "id": "1445bb29",
   "metadata": {},
   "outputs": [],
   "source": [
    "graph_data = create_regulatory_graph(\n",
    "    lnctard_dataset,\n",
    "    biobert_embeddings_dict,\n",
    "    name_type_dict,\n",
    ")"
   ]
  },
  {
   "cell_type": "code",
   "execution_count": 15,
   "id": "c8e8c8bb",
   "metadata": {},
   "outputs": [
    {
     "name": "stdout",
     "output_type": "stream",
     "text": [
      "Graph Information:\n",
      "- Number of nodes: 3908\n",
      "- Number of edges: 8360\n",
      "- Node feature dimensions: torch.Size([3908, 135])\n",
      "- Edge feature dimensions: torch.Size([8360, 13])\n",
      "- Edge index shape: torch.Size([2, 8360])\n",
      "Node features shape: torch.Size([3908, 135])\n",
      "Edge index shape: torch.Size([2, 8360])\n",
      "Edge attributes shape: torch.Size([8360, 13])\n"
     ]
    }
   ],
   "source": [
    "print(f\"Graph Information:\")\n",
    "print(f\"- Number of nodes: {graph_data.num_nodes}\")\n",
    "print(f\"- Number of edges: {graph_data.num_edges}\")\n",
    "print(f\"- Node feature dimensions: {graph_data.x.shape}\")\n",
    "print(f\"- Edge feature dimensions: {graph_data.edge_attr.shape}\")\n",
    "print(f\"- Edge index shape: {graph_data.edge_index.shape}\")\n",
    "\n",
    "print(f\"Node features shape: {graph_data.x.shape}\")\n",
    "print(f\"Edge index shape: {graph_data.edge_index.shape}\")\n",
    "print(f\"Edge attributes shape: {graph_data.edge_attr.shape}\")"
   ]
  },
  {
   "cell_type": "code",
   "execution_count": 16,
   "id": "275edb33",
   "metadata": {},
   "outputs": [],
   "source": [
    "torch.save(graph_data, \"../data/graph_biobert_128_dim.pt\")"
   ]
  }
 ],
 "metadata": {
  "kernelspec": {
   "display_name": "venv",
   "language": "python",
   "name": "python3"
  },
  "language_info": {
   "codemirror_mode": {
    "name": "ipython",
    "version": 3
   },
   "file_extension": ".py",
   "mimetype": "text/x-python",
   "name": "python",
   "nbconvert_exporter": "python",
   "pygments_lexer": "ipython3",
   "version": "3.12.3"
  }
 },
 "nbformat": 4,
 "nbformat_minor": 5
}
