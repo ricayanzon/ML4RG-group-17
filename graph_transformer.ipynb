{
  "cells": [
    {
      "cell_type": "code",
      "execution_count": 1,
      "metadata": {
        "cellView": "form",
        "colab": {
          "base_uri": "https://localhost:8080/"
        },
        "id": "bUSZq22_Z1Ip",
        "outputId": "0c510f8c-bcf6-4b29-d350-84d5a3a19039"
      },
      "outputs": [],
      "source": [
        "# @title Import dependencies\n",
        "\n",
        "import pickle\n",
        "from tqdm import tqdm\n",
        "import torch\n",
        "from torch_geometric.nn import GATConv, global_mean_pool\n",
        "from torch_geometric.data import Dataset, InMemoryDataset\n",
        "from torch_geometric.loader import DataLoader\n",
        "from torch_geometric.utils import from_networkx\n",
        "import os"
      ]
    },
    {
      "cell_type": "code",
      "execution_count": 2,
      "metadata": {
        "cellView": "form",
        "colab": {
          "base_uri": "https://localhost:8080/"
        },
        "id": "vdK1U3EOaot1",
        "outputId": "5aaee7ac-31d5-4058-c515-e4d79c1861c1"
      },
      "outputs": [
        {
          "name": "stdout",
          "output_type": "stream",
          "text": [
            "number of graphs: 197\n",
            "0: Graph with 15861 nodes and 229700 edges\n",
            "1: Graph with 15862 nodes and 229702 edges\n",
            "2: Graph with 15865 nodes and 229709 edges\n",
            "3: Graph with 15861 nodes and 229700 edges\n",
            "4: Graph with 15861 nodes and 229700 edges\n",
            "number of labels: 197\n",
            "0: 1\n",
            "1: 0\n",
            "2: 1\n",
            "3: 1\n",
            "4: 0\n"
          ]
        }
      ],
      "source": [
        "# @title Import graphs and labels\n",
        "\n",
        "graphs_path = \"./data/graphs.pkl\"\n",
        "with open(graphs_path, \"rb\") as graphs_file:\n",
        "    graphs = pickle.load(graphs_file)\n",
        "\n",
        "print(f\"number of graphs: {len(graphs)}\")\n",
        "for i in range(5):\n",
        "    print(f\"{i}: {graphs[i]}\")\n",
        "\n",
        "\n",
        "labels_path = \"./data/binary_labels.pkl\"\n",
        "with open(labels_path, \"rb\") as labels_file:\n",
        "    labels = pickle.load(labels_file)\n",
        "\n",
        "print(f\"number of labels: {len(labels)}\")\n",
        "for i in range(5):\n",
        "    print(f\"{i}: {labels[i]}\")"
      ]
    },
    {
      "cell_type": "code",
      "execution_count": 3,
      "metadata": {},
      "outputs": [
        {
          "name": "stdout",
          "output_type": "stream",
          "text": [
            "Using device = cuda\n"
          ]
        }
      ],
      "source": [
        "device = \"cuda\" if torch.cuda.is_available() else \"cpu\"\n",
        "print(f\"Using device = {device}\")"
      ]
    },
    {
      "cell_type": "code",
      "execution_count": null,
      "metadata": {
        "cellView": "form",
        "id": "ebtiewafpbZE"
      },
      "outputs": [],
      "source": [
        "# @title Hyperparameters\n",
        "\n",
        "hyperparameters = {\n",
        "    \"num_classes\": 2,\n",
        "    \"node_features_dim\": 1,\n",
        "    \"hidden_dim\": 256,\n",
        "    \"num_heads\": 8,\n",
        "    \"num_layers\": 6,\n",
        "    \"num_epochs\": 20,\n",
        "    \"learning_rate\": 0.001,\n",
        "    \"batch_size\": 2,\n",
        "    \"patience\": 100,\n",
        "    \"weight_decay\": 1e-4,\n",
        "}"
      ]
    },
    {
      "cell_type": "code",
      "execution_count": 5,
      "metadata": {
        "cellView": "form",
        "colab": {
          "base_uri": "https://localhost:8080/"
        },
        "id": "xbsyabnG2DZp",
        "outputId": "8e763243-a10e-4997-9168-599d31614209"
      },
      "outputs": [],
      "source": [
        "#  @title Convert networkx to Data objects\n",
        "\n",
        "\n",
        "class GraphDataset(InMemoryDataset):\n",
        "    def __init__(self, graphs, labels, transform=None):\n",
        "        super().__init__(None, transform)\n",
        "        data_list = []\n",
        "        for graph, label in tqdm(zip(graphs, labels)):\n",
        "            data = from_networkx(graph)\n",
        "            if data.x is None:\n",
        "                data.x = torch.ones(\n",
        "                    data.num_nodes,\n",
        "                    hyperparameters[\"node_features_dim\"],\n",
        "                    dtype=torch.float,\n",
        "                )\n",
        "                data.y = torch.tensor([label], dtype=torch.long)\n",
        "            data_list.append(data)\n",
        "            self.data, self.slices = self.collate(data_list)"
      ]
    },
    {
      "cell_type": "code",
      "execution_count": null,
      "metadata": {},
      "outputs": [],
      "source": [
        "#  @title Convert networkx to Data objects\n",
        "\n",
        "# TODO: this is the new implementation, not in-memory - create new pickle file for it\n",
        "# class GraphDataset(Dataset):\n",
        "#     def __init__(self, graphs, labels, transform=None):\n",
        "#         super().__init__(None, transform)\n",
        "#         self.data_list = []\n",
        "\n",
        "#         for graph, label in tqdm(zip(graphs, labels)):\n",
        "#             data = from_networkx(graph)\n",
        "\n",
        "#             if data.x is None:\n",
        "#                 data.x = torch.ones(\n",
        "#                     data.num_nodes,\n",
        "#                     hyperparameters['node_features_dim'],\n",
        "#                     dtype=torch.float)\n",
        "\n",
        "#             data.y = torch.tensor(label, dtype=torch.long)\n",
        "#             self.data_list.append(data)\n",
        "\n",
        "#     def len(self):\n",
        "#         return len(self.data_list)\n",
        "\n",
        "#     def getitem(self, idx):\n",
        "#         return self.data_list[idx]"
      ]
    },
    {
      "cell_type": "code",
      "execution_count": 7,
      "metadata": {},
      "outputs": [
        {
          "name": "stdout",
          "output_type": "stream",
          "text": [
            "Loading preprocessed dataset...\n",
            "Loaded dataset with 197 graphs\n",
            "0: Data(edge_index=[2, 459395], x=[15861, 1], y=[1], num_nodes=15861)\n",
            "1: Data(edge_index=[2, 459399], x=[15862, 1], y=[1], num_nodes=15862)\n",
            "2: Data(edge_index=[2, 459413], x=[15865, 1], y=[1], num_nodes=15865)\n",
            "3: Data(edge_index=[2, 459395], x=[15861, 1], y=[1], num_nodes=15861)\n",
            "4: Data(edge_index=[2, 459395], x=[15861, 1], y=[1], num_nodes=15861)\n"
          ]
        }
      ],
      "source": [
        "# @title Save and load the dataset\n",
        "\n",
        "dataset_path = \"./data/processed_dataset.pkl\"\n",
        "\n",
        "if os.path.exists(dataset_path):\n",
        "    print(\"Loading preprocessed dataset...\")\n",
        "    with open(dataset_path, \"rb\") as f:\n",
        "        dataset = pickle.load(f)\n",
        "    print(f\"Loaded dataset with {len(dataset)} graphs\")\n",
        "else:\n",
        "    print(\"Processing dataset for the first time...\")\n",
        "    dataset = GraphDataset(graphs, labels)\n",
        "\n",
        "    # Save the processed dataset\n",
        "    with open(dataset_path, \"wb\") as f:\n",
        "        pickle.dump(dataset, f)\n",
        "    print(f\"Saved processed dataset to {dataset_path}\")\n",
        "\n",
        "for i in range(5):\n",
        "    print(f\"{i}: {dataset[i]}\")"
      ]
    },
    {
      "cell_type": "code",
      "execution_count": 8,
      "metadata": {
        "cellView": "form",
        "colab": {
          "base_uri": "https://localhost:8080/"
        },
        "id": "p7t-xMfA7Irl",
        "outputId": "f7d88484-12fa-4f1c-fb1f-dd9f54990188"
      },
      "outputs": [
        {
          "name": "stdout",
          "output_type": "stream",
          "text": [
            "197 157 19 21\n",
            "79 10 11\n"
          ]
        }
      ],
      "source": [
        "# @title Create DataLoader from dataset\n",
        "\n",
        "n_total = len(dataset)\n",
        "n_train = int(0.8 * n_total)\n",
        "n_val = int(0.1 * n_total)\n",
        "n_test = n_total - n_train - n_val\n",
        "\n",
        "print(n_total, n_train, n_val, n_test)\n",
        "\n",
        "torch.manual_seed(42)\n",
        "train_dataset, val_dataset, test_dataset = torch.utils.data.random_split(\n",
        "    dataset, [n_train, n_val, n_test]\n",
        ")\n",
        "\n",
        "train_loader = DataLoader(\n",
        "    train_dataset, batch_size=hyperparameters[\"batch_size\"], shuffle=True\n",
        ")\n",
        "val_loader = DataLoader(\n",
        "    val_dataset, batch_size=hyperparameters[\"batch_size\"], shuffle=False\n",
        ")\n",
        "test_loader = DataLoader(\n",
        "    test_dataset, batch_size=hyperparameters[\"batch_size\"], shuffle=False\n",
        ")\n",
        "\n",
        "\n",
        "print(len(train_loader), len(val_loader), len(test_loader))"
      ]
    },
    {
      "cell_type": "code",
      "execution_count": 9,
      "metadata": {
        "cellView": "form",
        "id": "Qxlrr21Ya-RQ"
      },
      "outputs": [],
      "source": [
        "# @title Graph Transformer\n",
        "\n",
        "\n",
        "class GraphTransformer(torch.nn.Module):\n",
        "    def __init__(\n",
        "        self,\n",
        "        num_classes: int,\n",
        "        node_features_dim: int,\n",
        "        hidden_dim: int,\n",
        "        num_heads: int,\n",
        "        num_layers: int,\n",
        "    ):\n",
        "        super().__init__()\n",
        "        self.num_layers = num_layers\n",
        "        self.hidden_dim = hidden_dim\n",
        "        self.num_heads = num_heads\n",
        "\n",
        "        self.input_projection = torch.nn.Linear(node_features_dim, hidden_dim)\n",
        "        self.layers = torch.nn.ModuleList(\n",
        "            [\n",
        "                GATConv(\n",
        "                    in_channels=hidden_dim,\n",
        "                    out_channels=hidden_dim // num_heads,\n",
        "                    heads=num_heads,\n",
        "                    dropout=0.2,\n",
        "                )\n",
        "                for _ in range(num_layers)\n",
        "            ]\n",
        "        )\n",
        "        self.pool = global_mean_pool\n",
        "        self.classifier = torch.nn.Sequential(\n",
        "            torch.nn.Linear(hidden_dim, hidden_dim // 2),\n",
        "            torch.nn.ReLU(),\n",
        "            torch.nn.Linear(hidden_dim // 2, num_classes),\n",
        "        )\n",
        "\n",
        "    def forward(self, data):\n",
        "        \"\"\"\n",
        "        Args:\n",
        "            data: Batch object from torch_geometric.loader.DataLoader\n",
        "        \"\"\"\n",
        "        x, edge_index, batch = data.x, data.edge_index, data.batch\n",
        "        x = self.input_projection(x)\n",
        "\n",
        "        for layer in self.layers:\n",
        "            x = layer(x, edge_index)\n",
        "\n",
        "        x = self.pool(x, batch)\n",
        "\n",
        "        out = self.classifier(x)\n",
        "        return out"
      ]
    },
    {
      "cell_type": "code",
      "execution_count": 10,
      "metadata": {
        "cellView": "form",
        "id": "5uYpweFwr7Ce"
      },
      "outputs": [],
      "source": [
        "# @title Training helper functions\n",
        "\n",
        "\n",
        "def train_epoch(model, device, train_loader, optimizer, loss_function):\n",
        "    model.train()\n",
        "    total_loss = 0\n",
        "    total_correct = 0\n",
        "    total_samples = 0\n",
        "\n",
        "    for batch in train_loader:\n",
        "        batch = batch.to(device)\n",
        "        optimizer.zero_grad()\n",
        "\n",
        "        output = model(batch)\n",
        "        loss = loss_function(output, batch.y)\n",
        "\n",
        "        loss.backward()\n",
        "        optimizer.step()\n",
        "\n",
        "        total_loss += loss.item()\n",
        "        prediction = output.argmax(dim=1)\n",
        "        total_correct += (prediction == batch.y).sum().item()\n",
        "        total_samples += len(batch.y)\n",
        "\n",
        "    average_loss = total_loss / len(train_loader)\n",
        "    accuracy = total_correct / total_samples\n",
        "\n",
        "    return average_loss, accuracy\n",
        "\n",
        "\n",
        "def validate_epoch(model, device, val_loader, loss_function):\n",
        "    model.eval()\n",
        "    total_loss = 0\n",
        "    total_correct = 0\n",
        "    total_samples = 0\n",
        "\n",
        "    with torch.no_grad():\n",
        "        for batch in val_loader:\n",
        "            batch = batch.to(device)\n",
        "            output = model(batch)\n",
        "            loss = loss_function(output, batch.y)\n",
        "\n",
        "            total_loss += loss.item()\n",
        "            prediction = output.argmax(dim=1)\n",
        "            total_correct += (prediction == batch.y).sum().item()\n",
        "            total_samples += len(batch.y)\n",
        "\n",
        "    average_loss = total_loss / len(val_loader)\n",
        "    accuracy = total_correct / total_samples\n",
        "\n",
        "    return average_loss, accuracy\n",
        "\n",
        "\n",
        "def train(model, device, train_loader, val_loader):\n",
        "    optimizer = torch.optim.AdamW(\n",
        "        model.parameters(),\n",
        "        lr=hyperparameters[\"learning_rate\"],\n",
        "        weight_decay=hyperparameters[\"weight_decay\"],\n",
        "    )\n",
        "    loss_function = torch.nn.CrossEntropyLoss()\n",
        "\n",
        "    train_losses = []\n",
        "    val_losses = []\n",
        "    train_accuracies = []\n",
        "    val_accuracies = []\n",
        "\n",
        "    best_val_loss = float(\"inf\")\n",
        "    patience_counter = 0\n",
        "    best_model_state = None\n",
        "\n",
        "    print(\"Starting training...\")\n",
        "    for epoch in range(hyperparameters[\"num_epochs\"]):\n",
        "        train_loss, train_acc = train_epoch(\n",
        "            model, device, train_loader, optimizer, loss_function\n",
        "        )\n",
        "        val_loss, val_acc = validate_epoch(model, device, val_loader, loss_function)\n",
        "\n",
        "        train_losses.append(train_loss)\n",
        "        val_losses.append(val_loss)\n",
        "        train_accuracies.append(train_acc)\n",
        "        val_accuracies.append(val_acc)\n",
        "\n",
        "        if val_loss < best_val_loss:\n",
        "            best_val_loss = val_loss\n",
        "            patience_counter = 0\n",
        "            best_model_state = model.state_dict().copy()\n",
        "        else:\n",
        "            patience_counter += 1\n",
        "\n",
        "        if epoch % 10 == 0 or patience_counter >= hyperparameters[\"patience\"]:\n",
        "            print(\n",
        "                f\"Epoch {epoch:3d} | Train Loss: {train_loss:.4f} | \"\n",
        "                f\"Train Acc: {train_acc:.4f} | Val Loss: {val_loss:.4f} | \"\n",
        "                f\"Val Acc: {val_acc:.4f}\"\n",
        "            )\n",
        "\n",
        "        if patience_counter >= hyperparameters[\"patience\"]:\n",
        "            print(f\"Early stopping at epoch {epoch}\")\n",
        "            break\n",
        "\n",
        "    if best_model_state is not None:\n",
        "        model.load_state_dict(best_model_state)\n",
        "\n",
        "    print(\"Training completed.\")\n",
        "    return model"
      ]
    },
    {
      "cell_type": "code",
      "execution_count": 11,
      "metadata": {
        "colab": {
          "base_uri": "https://localhost:8080/"
        },
        "id": "fLs7Stc_xko6",
        "outputId": "dd677143-7b42-4a2a-e70c-a3d80d0b2a60"
      },
      "outputs": [
        {
          "name": "stdout",
          "output_type": "stream",
          "text": [
            "Model initialized with 431490 parameters\n",
            "Starting training...\n",
            "Epoch   0 | Train Loss: 0.9096 | Train Acc: 0.5032 | Val Loss: 0.5580 | Val Acc: 0.7895\n",
            "Epoch  10 | Train Loss: 0.6775 | Train Acc: 0.6178 | Val Loss: 0.6254 | Val Acc: 0.7895\n",
            "Epoch  20 | Train Loss: 0.6735 | Train Acc: 0.6178 | Val Loss: 0.6085 | Val Acc: 0.7895\n",
            "Epoch  30 | Train Loss: 0.6651 | Train Acc: 0.6178 | Val Loss: 0.5909 | Val Acc: 0.7895\n",
            "Epoch  40 | Train Loss: 0.6645 | Train Acc: 0.6178 | Val Loss: 0.5830 | Val Acc: 0.7895\n",
            "Epoch  50 | Train Loss: 0.6641 | Train Acc: 0.6178 | Val Loss: 0.5803 | Val Acc: 0.7895\n",
            "Epoch  60 | Train Loss: 0.6642 | Train Acc: 0.6178 | Val Loss: 0.5781 | Val Acc: 0.7895\n"
          ]
        },
        {
          "ename": "KeyboardInterrupt",
          "evalue": "",
          "output_type": "error",
          "traceback": [
            "\u001b[31m---------------------------------------------------------------------------\u001b[39m",
            "\u001b[31mKeyboardInterrupt\u001b[39m                         Traceback (most recent call last)",
            "\u001b[36mCell\u001b[39m\u001b[36m \u001b[39m\u001b[32mIn[11]\u001b[39m\u001b[32m, line 18\u001b[39m\n\u001b[32m     12\u001b[39m \u001b[38;5;28mprint\u001b[39m(\n\u001b[32m     13\u001b[39m     \u001b[33mf\u001b[39m\u001b[33m\"\u001b[39m\u001b[33mModel initialized with \u001b[39m\u001b[33m\"\u001b[39m\n\u001b[32m     14\u001b[39m     \u001b[33mf\u001b[39m\u001b[33m\"\u001b[39m\u001b[38;5;132;01m{\u001b[39;00m\u001b[38;5;28msum\u001b[39m(p.numel()\u001b[38;5;250m \u001b[39m\u001b[38;5;28;01mfor\u001b[39;00m\u001b[38;5;250m \u001b[39mp\u001b[38;5;250m \u001b[39m\u001b[38;5;129;01min\u001b[39;00m\u001b[38;5;250m \u001b[39mmodel.parameters())\u001b[38;5;132;01m}\u001b[39;00m\u001b[33m parameters\u001b[39m\u001b[33m\"\u001b[39m\n\u001b[32m     15\u001b[39m )\n\u001b[32m     17\u001b[39m torch.cuda.empty_cache()\n\u001b[32m---> \u001b[39m\u001b[32m18\u001b[39m \u001b[43mtrain\u001b[49m\u001b[43m(\u001b[49m\u001b[43mmodel\u001b[49m\u001b[43m,\u001b[49m\u001b[43m \u001b[49m\u001b[43mdevice\u001b[49m\u001b[43m,\u001b[49m\u001b[43m \u001b[49m\u001b[43mtrain_loader\u001b[49m\u001b[43m,\u001b[49m\u001b[43m \u001b[49m\u001b[43mval_loader\u001b[49m\u001b[43m)\u001b[49m\n",
            "\u001b[36mCell\u001b[39m\u001b[36m \u001b[39m\u001b[32mIn[10]\u001b[39m\u001b[32m, line 73\u001b[39m, in \u001b[36mtrain\u001b[39m\u001b[34m(model, device, train_loader, val_loader)\u001b[39m\n\u001b[32m     71\u001b[39m \u001b[38;5;28mprint\u001b[39m(\u001b[33m\"\u001b[39m\u001b[33mStarting training...\u001b[39m\u001b[33m\"\u001b[39m)\n\u001b[32m     72\u001b[39m \u001b[38;5;28;01mfor\u001b[39;00m epoch \u001b[38;5;129;01min\u001b[39;00m \u001b[38;5;28mrange\u001b[39m(hyperparameters[\u001b[33m\"\u001b[39m\u001b[33mnum_epochs\u001b[39m\u001b[33m\"\u001b[39m]):\n\u001b[32m---> \u001b[39m\u001b[32m73\u001b[39m     train_loss, train_acc = \u001b[43mtrain_epoch\u001b[49m\u001b[43m(\u001b[49m\n\u001b[32m     74\u001b[39m \u001b[43m        \u001b[49m\u001b[43mmodel\u001b[49m\u001b[43m,\u001b[49m\u001b[43m \u001b[49m\u001b[43mdevice\u001b[49m\u001b[43m,\u001b[49m\u001b[43m \u001b[49m\u001b[43mtrain_loader\u001b[49m\u001b[43m,\u001b[49m\u001b[43m \u001b[49m\u001b[43moptimizer\u001b[49m\u001b[43m,\u001b[49m\u001b[43m \u001b[49m\u001b[43mloss_function\u001b[49m\n\u001b[32m     75\u001b[39m \u001b[43m    \u001b[49m\u001b[43m)\u001b[49m\n\u001b[32m     76\u001b[39m     val_loss, val_acc = validate_epoch(model, device, val_loader, loss_function)\n\u001b[32m     78\u001b[39m     train_losses.append(train_loss)\n",
            "\u001b[36mCell\u001b[39m\u001b[36m \u001b[39m\u001b[32mIn[10]\u001b[39m\u001b[32m, line 20\u001b[39m, in \u001b[36mtrain_epoch\u001b[39m\u001b[34m(model, device, train_loader, optimizer, loss_function)\u001b[39m\n\u001b[32m     17\u001b[39m loss.backward()\n\u001b[32m     18\u001b[39m optimizer.step()\n\u001b[32m---> \u001b[39m\u001b[32m20\u001b[39m total_loss += \u001b[43mloss\u001b[49m\u001b[43m.\u001b[49m\u001b[43mitem\u001b[49m\u001b[43m(\u001b[49m\u001b[43m)\u001b[49m\n\u001b[32m     21\u001b[39m prediction = output.argmax(dim=\u001b[32m1\u001b[39m)\n\u001b[32m     22\u001b[39m total_correct += (prediction == batch.y).sum().item()\n",
            "\u001b[31mKeyboardInterrupt\u001b[39m: "
          ]
        }
      ],
      "source": [
        "# @title Training\n",
        "\n",
        "model = GraphTransformer(\n",
        "    hyperparameters[\"num_classes\"],\n",
        "    hyperparameters[\"node_features_dim\"],\n",
        "    hyperparameters[\"hidden_dim\"],\n",
        "    hyperparameters[\"num_heads\"],\n",
        "    hyperparameters[\"num_layers\"],\n",
        ")\n",
        "model = model.to(device)\n",
        "\n",
        "print(\n",
        "    f\"Model initialized with \"\n",
        "    f\"{sum(p.numel() for p in model.parameters())} parameters\"\n",
        ")\n",
        "\n",
        "torch.cuda.empty_cache()\n",
        "train(model, device, train_loader, val_loader)"
      ]
    },
    {
      "cell_type": "code",
      "execution_count": null,
      "metadata": {},
      "outputs": [],
      "source": [
        "Not real transformer - lacks:\n",
        "- positional encoding (how to do this in graph context?)\n",
        "- only local attention - no dense self-attention\n",
        "- no FFNs between attention layers\n",
        "- no residual connections"
      ]
    }
  ],
  "metadata": {
    "accelerator": "GPU",
    "colab": {
      "gpuType": "T4",
      "provenance": []
    },
    "kernelspec": {
      "display_name": "venv",
      "language": "python",
      "name": "python3"
    },
    "language_info": {
      "codemirror_mode": {
        "name": "ipython",
        "version": 3
      },
      "file_extension": ".py",
      "mimetype": "text/x-python",
      "name": "python",
      "nbconvert_exporter": "python",
      "pygments_lexer": "ipython3",
      "version": "3.12.3"
    }
  },
  "nbformat": 4,
  "nbformat_minor": 0
}
