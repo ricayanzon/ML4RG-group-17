{
 "cells": [
  {
   "cell_type": "code",
   "execution_count": 2,
   "metadata": {},
   "outputs": [],
   "source": [
    "import os\n",
    "import torch\n",
    "import numpy as np\n",
    "import torch.nn as nn\n",
    "import matplotlib.pyplot as plt\n",
    "\n",
    "from sklearn.manifold import TSNE\n",
    "from sklearn.decomposition import PCA\n",
    "from torch_geometric.data import HeteroData\n",
    "from torch_geometric.nn import GENConv, HeteroConv"
   ]
  },
  {
   "cell_type": "code",
   "execution_count": 3,
   "metadata": {},
   "outputs": [
    {
     "name": "stdout",
     "output_type": "stream",
     "text": [
      "HeteroData(\n",
      "  lncRNA={ x=[1269, 2] },\n",
      "  protein={ x=[11585, 2] },\n",
      "  (lncRNA, interacts, protein)={\n",
      "    edge_index=[2, 7635],\n",
      "    edge_attr=[7635, 4],\n",
      "  },\n",
      "  (protein, interacts, protein)={\n",
      "    edge_index=[2, 148992],\n",
      "    edge_attr=[148992, 1],\n",
      "  }\n",
      ")\n"
     ]
    }
   ],
   "source": [
    "hetero_data = torch.load('data/combined_dbs_heteroGraph.pt')\n",
    "print(hetero_data)"
   ]
  },
  {
   "cell_type": "code",
   "execution_count": 4,
   "metadata": {},
   "outputs": [],
   "source": [
    "class HeteroGNNEncoder(nn.Module):\n",
    "    def __init__(self, in_channels, out_channels, metadata, hidden_channels=64):\n",
    "        super().__init__()\n",
    "\n",
    "        # Define edge_dim manually for each edge type\n",
    "        edge_dims = {\n",
    "            ('lncRNA', 'interacts', 'protein'): 4,\n",
    "            ('protein', 'interacts', 'protein'): 1,\n",
    "        }\n",
    "\n",
    "        # Store convs in ModuleDict using string keys (requirement of nn.ModuleDict)\n",
    "        self.convs = nn.ModuleDict({\n",
    "            '__'.join(edge_type): GENConv(\n",
    "                in_channels=in_channels,\n",
    "                out_channels=out_channels,\n",
    "                edge_dim=edge_dims[edge_type],\n",
    "                aggr='softmax',\n",
    "                t=1.0,\n",
    "                learn_t=True,\n",
    "                num_layers=2,\n",
    "                norm='layer'\n",
    "            )\n",
    "            for edge_type in metadata[1]\n",
    "        })\n",
    "\n",
    "        # Build HeteroConv with original tuple keys (required by PyG)\n",
    "        self.hetero_conv = HeteroConv({\n",
    "            edge_type: self.convs['__'.join(edge_type)]\n",
    "            for edge_type in metadata[1]\n",
    "        }, aggr='sum')\n",
    "\n",
    "        # LayerNorm for each node type\n",
    "        self.norms = nn.ModuleDict({\n",
    "            node_type: nn.LayerNorm(out_channels)\n",
    "            for node_type in metadata[0]\n",
    "        })\n",
    "\n",
    "    def forward(self, x_dict, edge_index_dict, edge_attr_dict):\n",
    "        # Apply HeteroConv using edge_attr directly\n",
    "        out_dict = self.hetero_conv(x_dict, edge_index_dict, edge_attr_dict)\n",
    "\n",
    "        # Normalize node embeddings\n",
    "        out_dict = {\n",
    "            node_type: self.norms[node_type](x)\n",
    "            for node_type, x in out_dict.items()\n",
    "        }\n",
    "        return out_dict\n"
   ]
  },
  {
   "cell_type": "code",
   "execution_count": 5,
   "metadata": {},
   "outputs": [
    {
     "name": "stderr",
     "output_type": "stream",
     "text": [
      "C:\\Users\\shahd\\anaconda3\\envs\\gnn_env\\lib\\site-packages\\torch_geometric\\nn\\conv\\hetero_conv.py:76: UserWarning: There exist node types ({'lncRNA'}) whose representations do not get updated during message passing as they do not occur as destination type in any edge type. This may lead to unexpected behavior.\n",
      "  warnings.warn(\n"
     ]
    },
    {
     "name": "stdout",
     "output_type": "stream",
     "text": [
      "protein embedding shape: torch.Size([11585, 128])\n"
     ]
    }
   ],
   "source": [
    "encoder = HeteroGNNEncoder(\n",
    "    in_channels=2,\n",
    "    out_channels=128,\n",
    "    metadata=hetero_data.metadata(),\n",
    "    hidden_channels=64\n",
    ")\n",
    "\n",
    "with torch.no_grad():\n",
    "    embeddings = encoder(\n",
    "        hetero_data.x_dict,\n",
    "        hetero_data.edge_index_dict,\n",
    "        hetero_data.edge_attr_dict\n",
    "    )\n",
    "\n",
    "for node_type, emb in embeddings.items():\n",
    "    print(f\"{node_type} embedding shape: {emb.shape}\")\n"
   ]
  },
  {
   "cell_type": "code",
   "execution_count": null,
   "metadata": {},
   "outputs": [],
   "source": [
    "## No embedding for lncRNA because it's a source only. lncRNA didn't receieve any msg.\n",
    "## we need to add reverse edges."
   ]
  }
 ],
 "metadata": {
  "kernelspec": {
   "display_name": "Python (GNN Env)",
   "language": "python",
   "name": "gnn_env"
  },
  "language_info": {
   "codemirror_mode": {
    "name": "ipython",
    "version": 3
   },
   "file_extension": ".py",
   "mimetype": "text/x-python",
   "name": "python",
   "nbconvert_exporter": "python",
   "pygments_lexer": "ipython3",
   "version": "3.10.18"
  }
 },
 "nbformat": 4,
 "nbformat_minor": 4
}
