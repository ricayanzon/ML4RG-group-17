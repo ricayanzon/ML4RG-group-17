{
 "cells": [
  {
   "cell_type": "code",
   "execution_count": 1,
   "metadata": {},
   "outputs": [],
   "source": [
    "import pandas as pd\n",
    "from collections import Counter"
   ]
  },
  {
   "cell_type": "code",
   "execution_count": 2,
   "metadata": {},
   "outputs": [
    {
     "name": "stdout",
     "output_type": "stream",
     "text": [
      "    Regulator    Target       regulatoryType SearchregulatoryMechanism  \\\n",
      "0   LINC00313  miR-4429  binding/interaction           ceRNA or sponge   \n",
      "1  FAM83H-AS1    CDKN1A           regulation     epigenetic regulation   \n",
      "2       NEAT1     TGFB1          association           ceRNA or sponge   \n",
      "3       NEAT1      ZEB1           regulation           ceRNA or sponge   \n",
      "4   ZFPM2-AS1       MIF  binding/interaction     interact with protein   \n",
      "\n",
      "  diseaseCategory       regulatoryType    DiseaseName2  \n",
      "0          Cancer  binding/interaction  Thyroid cancer  \n",
      "1          Cancer           regulation    Brain glioma  \n",
      "2          Cancer          association    Liver cancer  \n",
      "3          Cancer           regulation   Breast cancer  \n",
      "4          Cancer  binding/interaction  Gastric cancer  \n"
     ]
    }
   ],
   "source": [
    "# Load the Excel file\n",
    "file_path = \"data/lnctard2.0.xlsx\"  # Change this if the file is in a different location\n",
    "xls = pd.ExcelFile(file_path)\n",
    "\n",
    "# Parse the specific sheet\n",
    "df = xls.parse('lnctard2.0')\n",
    "\n",
    "# Filter rows where the regulator type is 'lncRNA'\n",
    "filtered_df = df[df['RegulatorType'] == 'lncRNA']\n",
    "\n",
    "# Select the required columns\n",
    "selected_columns = [\n",
    "    'Regulator',\n",
    "    'Target',\n",
    "    'regulatoryType',\n",
    "    'SearchregulatoryMechanism',\n",
    "    'diseaseCategory',\n",
    "    'regulatoryType',\n",
    "    'DiseaseName2'\n",
    "]\n",
    "\n",
    "# Extract the selected columns from the filtered DataFrame\n",
    "result_df = filtered_df[selected_columns]\n",
    "\n",
    "# Display the first few rows to verify\n",
    "print(result_df.head())\n",
    "\n",
    "# (Optional) Save the result to a new Excel file\n",
    "#result_df.to_excel(\"filtered_lncRNA_interactions.xlsx\", index=False)\n"
   ]
  },
  {
   "cell_type": "code",
   "execution_count": 3,
   "metadata": {},
   "outputs": [
    {
     "name": "stdout",
     "output_type": "stream",
     "text": [
      "Number of unique disease categories: 18\n",
      "diseaseCategory\n",
      "Cancer                               6519\n",
      "Cardiovascular system disease         385\n",
      "Musculoskeletal system disease        187\n",
      "Other                                 158\n",
      "Nervous system disease                124\n",
      "Respiratory system disease             82\n",
      "Gastrointestinal system disease        73\n",
      "Urinary system disease                 53\n",
      "Disease by infectious agent            42\n",
      "Immune system disease                  36\n",
      "Reproductive system disease            31\n",
      "Disease of metabolism                  23\n",
      "Syndrome                               22\n",
      "Endocrine system disease               18\n",
      "Integumentary system disease           10\n",
      "Genetic disease                         5\n",
      "Disease of mental health                3\n",
      "Disease of cellular proliferation       2\n",
      "Name: count, dtype: int64\n"
     ]
    }
   ],
   "source": [
    "# Count the number of unique disease categories\n",
    "unique_disease_categories = result_df['diseaseCategory'].nunique()\n",
    "print(\"Number of unique disease categories:\", unique_disease_categories)\n",
    "\n",
    "# Get the list of unique disease categories and how many times each appears\n",
    "disease_category_counts = result_df['diseaseCategory'].value_counts()\n",
    "\n",
    "# Display the counts\n",
    "print(disease_category_counts)\n"
   ]
  },
  {
   "cell_type": "code",
   "execution_count": 5,
   "metadata": {},
   "outputs": [
    {
     "name": "stdout",
     "output_type": "stream",
     "text": [
      "    Regulator    Target       regulatoryType SearchregulatoryMechanism  \\\n",
      "0   LINC00313  miR-4429  binding/interaction           ceRNA or sponge   \n",
      "1  FAM83H-AS1    CDKN1A           regulation     epigenetic regulation   \n",
      "2       NEAT1     TGFB1          association           ceRNA or sponge   \n",
      "3       NEAT1      ZEB1           regulation           ceRNA or sponge   \n",
      "4   ZFPM2-AS1       MIF  binding/interaction     interact with protein   \n",
      "\n",
      "  diseaseCategory       regulatoryType    DiseaseName2 CancerLabel  \n",
      "0          Cancer  binding/interaction  Thyroid cancer      Cancer  \n",
      "1          Cancer           regulation    Brain glioma      Cancer  \n",
      "2          Cancer          association    Liver cancer      Cancer  \n",
      "3          Cancer           regulation   Breast cancer      Cancer  \n",
      "4          Cancer  binding/interaction  Gastric cancer      Cancer  \n"
     ]
    },
    {
     "name": "stderr",
     "output_type": "stream",
     "text": [
      "C:\\Users\\shahd\\AppData\\Local\\Temp\\ipykernel_20828\\2295801211.py:2: SettingWithCopyWarning: \n",
      "A value is trying to be set on a copy of a slice from a DataFrame.\n",
      "Try using .loc[row_indexer,col_indexer] = value instead\n",
      "\n",
      "See the caveats in the documentation: https://pandas.pydata.org/pandas-docs/stable/user_guide/indexing.html#returning-a-view-versus-a-copy\n",
      "  result_df['CancerLabel'] = result_df['diseaseCategory'].apply(\n"
     ]
    }
   ],
   "source": [
    "# Add a new column that labels rows as 'Cancer' or 'nonCancer'\n",
    "result_df['CancerLabel'] = result_df['diseaseCategory'].apply(\n",
    "    lambda x: 'Cancer' if x == 'Cancer' else 'nonCancer'\n",
    ")\n",
    "\n",
    "print(result_df.head())\n"
   ]
  },
  {
   "cell_type": "code",
   "execution_count": 6,
   "metadata": {},
   "outputs": [
    {
     "name": "stdout",
     "output_type": "stream",
     "text": [
      "CancerLabel\n",
      "Cancer       6519\n",
      "nonCancer    1254\n",
      "Name: count, dtype: int64\n"
     ]
    }
   ],
   "source": [
    "# Count the number of unique values in 'CancerLabel' and how many times each appears\n",
    "cancer_label_counts = result_df['CancerLabel'].value_counts()\n",
    "\n",
    "# Display the counts\n",
    "print(cancer_label_counts)\n"
   ]
  },
  {
   "cell_type": "code",
   "execution_count": 7,
   "metadata": {},
   "outputs": [
    {
     "name": "stdout",
     "output_type": "stream",
     "text": [
      "7773\n",
      "    Regulator    Target       regulatoryType SearchregulatoryMechanism  \\\n",
      "0   LINC00313  miR-4429  binding/interaction           ceRNA or sponge   \n",
      "1  FAM83H-AS1    CDKN1A           regulation     epigenetic regulation   \n",
      "2       NEAT1     TGFB1          association           ceRNA or sponge   \n",
      "3       NEAT1      ZEB1           regulation           ceRNA or sponge   \n",
      "4   ZFPM2-AS1       MIF  binding/interaction     interact with protein   \n",
      "\n",
      "  diseaseCategory       regulatoryType    DiseaseName2 CancerLabel  \n",
      "0          Cancer  binding/interaction  Thyroid cancer      Cancer  \n",
      "1          Cancer           regulation    Brain glioma      Cancer  \n",
      "2          Cancer          association    Liver cancer      Cancer  \n",
      "3          Cancer           regulation   Breast cancer      Cancer  \n",
      "4          Cancer  binding/interaction  Gastric cancer      Cancer  \n"
     ]
    }
   ],
   "source": [
    "print(len(result_df))\n",
    "print(result_df.head())\n"
   ]
  },
  {
   "cell_type": "code",
   "execution_count": 8,
   "metadata": {},
   "outputs": [],
   "source": [
    "# Remove any rows that contain missing values (NaN) in any column\n",
    "cleaned_df = result_df.dropna()"
   ]
  },
  {
   "cell_type": "code",
   "execution_count": 9,
   "metadata": {},
   "outputs": [
    {
     "name": "stdout",
     "output_type": "stream",
     "text": [
      "7757\n",
      "    Regulator    Target       regulatoryType SearchregulatoryMechanism  \\\n",
      "0   LINC00313  miR-4429  binding/interaction           ceRNA or sponge   \n",
      "1  FAM83H-AS1    CDKN1A           regulation     epigenetic regulation   \n",
      "2       NEAT1     TGFB1          association           ceRNA or sponge   \n",
      "3       NEAT1      ZEB1           regulation           ceRNA or sponge   \n",
      "4   ZFPM2-AS1       MIF  binding/interaction     interact with protein   \n",
      "\n",
      "  diseaseCategory       regulatoryType    DiseaseName2 CancerLabel  \n",
      "0          Cancer  binding/interaction  Thyroid cancer      Cancer  \n",
      "1          Cancer           regulation    Brain glioma      Cancer  \n",
      "2          Cancer          association    Liver cancer      Cancer  \n",
      "3          Cancer           regulation   Breast cancer      Cancer  \n",
      "4          Cancer  binding/interaction  Gastric cancer      Cancer  \n"
     ]
    }
   ],
   "source": [
    "print(len(cleaned_df))\n",
    "print(cleaned_df.head())"
   ]
  },
  {
   "cell_type": "code",
   "execution_count": 10,
   "metadata": {},
   "outputs": [],
   "source": [
    "# Rename columns: 'Regulator' to 'node1', 'Target' to 'node2'\n",
    "cleaned_df = cleaned_df.rename(columns={\n",
    "    'Regulator': 'node1',\n",
    "    'Target': 'node2'\n",
    "})\n",
    "\n",
    "# Add a new column 'node1Type' and set all values to 'lncRNA'\n",
    "cleaned_df['node1Type'] = 'lncRNA'\n"
   ]
  },
  {
   "cell_type": "code",
   "execution_count": 11,
   "metadata": {},
   "outputs": [
    {
     "name": "stdout",
     "output_type": "stream",
     "text": [
      "7757\n",
      "        node1     node2       regulatoryType SearchregulatoryMechanism  \\\n",
      "0   LINC00313  miR-4429  binding/interaction           ceRNA or sponge   \n",
      "1  FAM83H-AS1    CDKN1A           regulation     epigenetic regulation   \n",
      "2       NEAT1     TGFB1          association           ceRNA or sponge   \n",
      "3       NEAT1      ZEB1           regulation           ceRNA or sponge   \n",
      "4   ZFPM2-AS1       MIF  binding/interaction     interact with protein   \n",
      "\n",
      "  diseaseCategory       regulatoryType    DiseaseName2 CancerLabel node1Type  \n",
      "0          Cancer  binding/interaction  Thyroid cancer      Cancer    lncRNA  \n",
      "1          Cancer           regulation    Brain glioma      Cancer    lncRNA  \n",
      "2          Cancer          association    Liver cancer      Cancer    lncRNA  \n",
      "3          Cancer           regulation   Breast cancer      Cancer    lncRNA  \n",
      "4          Cancer  binding/interaction  Gastric cancer      Cancer    lncRNA  \n"
     ]
    }
   ],
   "source": [
    "print(len(cleaned_df))\n",
    "print(cleaned_df.head())"
   ]
  },
  {
   "cell_type": "code",
   "execution_count": 12,
   "metadata": {},
   "outputs": [
    {
     "name": "stdout",
     "output_type": "stream",
     "text": [
      "866856\n"
     ]
    }
   ],
   "source": [
    "# Load the preprocessed string DB (in this file we already converted the ENSB to gene name using uniprot and filtered the combine score column >=550).\n",
    "df_string = pd.read_excel(\"data/STRING_Preprocessed_DB.xlsx\", sheet_name=\"Sheet1\")\n",
    "\n",
    "print(len(df_string))\n"
   ]
  },
  {
   "cell_type": "code",
   "execution_count": 13,
   "metadata": {},
   "outputs": [
    {
     "name": "stdout",
     "output_type": "stream",
     "text": [
      "456706\n"
     ]
    }
   ],
   "source": [
    "# Filter out rows where 'combine_score' is less than 700\n",
    "filtered_string_df = df_string[df_string['combined_score'] >= 700]\n",
    "\n",
    "# (Optional) Save the result to a new Excel file\n",
    "#filtered_string_df.to_excel(\"filtered_STRING_DB.xlsx\", index=False)\n",
    "\n",
    "print(len(filtered_string_df))"
   ]
  },
  {
   "cell_type": "code",
   "execution_count": 14,
   "metadata": {},
   "outputs": [
    {
     "name": "stdout",
     "output_type": "stream",
     "text": [
      "454658\n"
     ]
    }
   ],
   "source": [
    "# Remove any rows that contain missing values (NaN) in any column\n",
    "filtered_string_df = filtered_string_df.dropna()\n",
    "print(len(filtered_string_df))"
   ]
  },
  {
   "cell_type": "code",
   "execution_count": 15,
   "metadata": {},
   "outputs": [
    {
     "name": "stdout",
     "output_type": "stream",
     "text": [
      "2481\n"
     ]
    }
   ],
   "source": [
    "# Extract unique values from the 'node2' column ## extract all unique protein in lnctard db\n",
    "node2_values = set(cleaned_df['node2'].unique())\n",
    "print(len(node2_values))\n",
    "#print(node2_values)\n"
   ]
  },
  {
   "cell_type": "code",
   "execution_count": 16,
   "metadata": {},
   "outputs": [
    {
     "name": "stdout",
     "output_type": "stream",
     "text": [
      "149010\n"
     ]
    }
   ],
   "source": [
    "# Filter rows where gene1 or gene2 exists in node2\n",
    "filtered_df = filtered_string_df[\n",
    "    filtered_string_df['gene1'].isin(node2_values) | filtered_string_df['gene2'].isin(node2_values)\n",
    "]\n",
    "\n",
    "print(len(filtered_df))"
   ]
  },
  {
   "cell_type": "code",
   "execution_count": 17,
   "metadata": {},
   "outputs": [],
   "source": [
    "lnc_protein_df = cleaned_df\n",
    "ppi_df = filtered_df"
   ]
  },
  {
   "cell_type": "code",
   "execution_count": 18,
   "metadata": {},
   "outputs": [
    {
     "name": "stdout",
     "output_type": "stream",
     "text": [
      "Total unique lncRNAs (from node1): 1314\n",
      "Total unique proteins (from node2 + PPI): 11625\n",
      "Number of conflicting nodes: 69\n",
      "Examples of conflicts: ['FTX', 'SNHG20', 'JPX', 'DACH1', 'XIST', 'METTL3', 'TATDN2', 'snaR', 'CANT1', 'HNRNPL']\n"
     ]
    }
   ],
   "source": [
    "# all nodes in node1 columns should be lncRNA\n",
    "lncRNA_nodes = set(lnc_protein_df['node1'].unique())\n",
    "\n",
    "# lncRNA also appeared as protein !!!\n",
    "protein_like_nodes = set(lnc_protein_df['node2'].unique()) \\\n",
    "    .union(set(ppi_df['gene1'].unique())) \\\n",
    "    .union(set(ppi_df['gene2'].unique()))\n",
    "\n",
    "# nodes appeared as lncRNA and Protein !!!!\n",
    "conflicting_nodes = lncRNA_nodes.intersection(protein_like_nodes)\n",
    "\n",
    "## some statistics\n",
    "print(\"Total unique lncRNAs (from node1):\", len(lncRNA_nodes))\n",
    "print(\"Total unique proteins (from node2 + PPI):\", len(protein_like_nodes))\n",
    "print(\"Number of conflicting nodes:\", len(conflicting_nodes))\n",
    "print(\"Examples of conflicts:\", list(conflicting_nodes)[:10])\n"
   ]
  },
  {
   "cell_type": "code",
   "execution_count": 19,
   "metadata": {},
   "outputs": [
    {
     "name": "stdout",
     "output_type": "stream",
     "text": [
      "Number of rows in lncRNA–protein involving conflicting nodes: 2178\n",
      "Number of rows in PPI involving conflicting nodes: 2218\n",
      "4356\n"
     ]
    }
   ],
   "source": [
    "# How many rows has been affected by conflicting nodes in lncRNA–protein DB\n",
    "conflict_rows_lnc_protein = lnc_protein_df[\n",
    "    lnc_protein_df['node1'].isin(conflicting_nodes) |\n",
    "    lnc_protein_df['node2'].isin(conflicting_nodes)\n",
    "]\n",
    "\n",
    "\n",
    "# # How many rows has been affected by conflicting nodes in protein–protein DB\n",
    "conflict_rows_ppi = ppi_df[\n",
    "    ppi_df['gene1'].isin(conflicting_nodes) |\n",
    "    ppi_df['gene2'].isin(conflicting_nodes)\n",
    "]\n",
    "\n",
    "\n",
    "print(\"Number of rows in lncRNA–protein involving conflicting nodes:\", len(conflict_rows_lnc_protein))\n",
    "print(\"Number of rows in PPI involving conflicting nodes:\", len(conflict_rows_ppi))\n",
    "\n",
    "## total number of edged has been affected by confliction node = ?!\n",
    "print(len(conflict_rows_lnc_protein) + len(conflict_rows_lnc_protein))"
   ]
  },
  {
   "cell_type": "code",
   "execution_count": 22,
   "metadata": {},
   "outputs": [
    {
     "name": "stdout",
     "output_type": "stream",
     "text": [
      "69\n",
      "         node  lncRNA_count  protein_count\n",
      "44      ITGB1             1            410\n",
      "56      SIRT1             1            384\n",
      "66       AGO2             7            231\n",
      "35    SUV39H1             1            136\n",
      "15       AGER             1             78\n",
      "..        ...           ...            ...\n",
      "30     SNHG20            29              1\n",
      "27  AFAP1-AS1            64              1\n",
      "24       TUG1           143              1\n",
      "22      Giver             5              1\n",
      "34  HOXA11-AS            50              1\n",
      "\n",
      "[69 rows x 3 columns]\n"
     ]
    }
   ],
   "source": [
    "## if we delete 4356 edges we will lose alot of information.\n",
    "## we will try to fix that in a better way.\n",
    "\n",
    "# Count appearances in each position\n",
    "lncrna_counts = Counter(lnc_protein_df['node1'])\n",
    "protein_counts = Counter(lnc_protein_df['node2'])\n",
    "protein_counts.update(ppi_df['gene1'])\n",
    "protein_counts.update(ppi_df['gene2'])\n",
    "\n",
    "# Collect stats for each conflicting node\n",
    "conflict_stats = []\n",
    "\n",
    "for node in conflicting_nodes:\n",
    "    lnc_count = lncrna_counts.get(node, 0)\n",
    "    prot_count = protein_counts.get(node, 0)\n",
    "    conflict_stats.append({\n",
    "        'node': node,\n",
    "        'lncRNA_count': lnc_count,\n",
    "        'protein_count': prot_count\n",
    "    })\n",
    "\n",
    "# Convert to DataFrame and sort\n",
    "conflict_stats_df = pd.DataFrame(conflict_stats)\n",
    "conflict_stats_df = conflict_stats_df.sort_values(by='protein_count', ascending=False)\n",
    "\n",
    "#print(len(conflict_stats_df))\n",
    "\n",
    "print('Check how often each conflicting node is labeled as lncRNA versus protein.')\n",
    "print(conflict_stats_df)\n",
    "\n"
   ]
  },
  {
   "cell_type": "code",
   "execution_count": 26,
   "metadata": {},
   "outputs": [
    {
     "name": "stdout",
     "output_type": "stream",
     "text": [
      "Original lncRNA–protein edges: 7757\n",
      "Cleaned  lncRNA–protein edges: 7635\n",
      "Original PPI edges: 149010\n",
      "Cleaned  PPI edges: 148992\n",
      "Number of deleted rows = 140\n"
     ]
    }
   ],
   "source": [
    "## we will take the dominant type, leave the rows with the domonant type and delete the rows with the rare type most probably errors in that rows.\n",
    "\n",
    "dominant_type = {}\n",
    "for node in conflicting_nodes:\n",
    "    l_count = lncrna_counts.get(node, 0)\n",
    "    p_count = protein_counts.get(node, 0)\n",
    "    if p_count > l_count:\n",
    "        dominant_type[node] = 'protein'\n",
    "    else:\n",
    "        dominant_type[node] = 'lncRNA'\n",
    "\n",
    "# === Step 4: Remove wrong-type rows ===\n",
    "\n",
    "# Remove wrong lncRNA-protein edges\n",
    "mask_lp = lnc_protein_df.apply(\n",
    "    lambda row: (\n",
    "        row['node1'] in dominant_type and dominant_type[row['node1']] != 'lncRNA'\n",
    "    ) or (\n",
    "        row['node2'] in dominant_type and dominant_type[row['node2']] != 'protein'\n",
    "    ), axis=1)\n",
    "\n",
    "lnc_protein_cleaned = lnc_protein_df[~mask_lp].copy()\n",
    "\n",
    "# Remove wrong PPI edges\n",
    "mask_ppi = ppi_df.apply(\n",
    "    lambda row: (\n",
    "        row['gene1'] in dominant_type and dominant_type[row['gene1']] != 'protein'\n",
    "    ) or (\n",
    "        row['gene2'] in dominant_type and dominant_type[row['gene2']] != 'protein'\n",
    "    ), axis=1)\n",
    "\n",
    "ppi_cleaned = ppi_df[~mask_ppi].copy()\n",
    "\n",
    "# print stats #\n",
    "#---------------\n",
    "print(\"Original lncRNA–protein edges:\", len(lnc_protein_df))\n",
    "print(\"Cleaned  lncRNA–protein edges:\", len(lnc_protein_cleaned))\n",
    "print(\"Original PPI edges:\", len(ppi_df))\n",
    "print(\"Cleaned  PPI edges:\", len(ppi_cleaned))\n",
    "\n",
    "print('Number of deleted rows =',( len(ppi_df)-len(ppi_cleaned) ) + ( len(lnc_protein_df) -len(lnc_protein_cleaned) ) )"
   ]
  },
  {
   "cell_type": "code",
   "execution_count": 27,
   "metadata": {},
   "outputs": [
    {
     "name": "stdout",
     "output_type": "stream",
     "text": [
      "file saved successfully\n"
     ]
    }
   ],
   "source": [
    "## More robust data\n",
    "## delete just 140 rows instead of 4356 rows :))\n",
    "\n",
    "# Save the cleaned dataframe to a new Excel file\n",
    "lnc_protein_cleaned.to_excel(\"data/cleaned_lncRNA_interactions.xlsx\", index=False)\n",
    "print('file saved successfully')"
   ]
  },
  {
   "cell_type": "code",
   "execution_count": 28,
   "metadata": {},
   "outputs": [
    {
     "name": "stdout",
     "output_type": "stream",
     "text": [
      "file saved successfully\n"
     ]
    }
   ],
   "source": [
    "# Save the cleaned dataframe to a new Excel file\n",
    "ppi_cleaned.to_excel(\"data/cleaned_PPI_interactions.xlsx\", index=False)\n",
    "print('file saved successfully')\n"
   ]
  },
  {
   "cell_type": "code",
   "execution_count": null,
   "metadata": {},
   "outputs": [],
   "source": []
  }
 ],
 "metadata": {
  "kernelspec": {
   "display_name": "Python (GNN Env)",
   "language": "python",
   "name": "gnn_env"
  },
  "language_info": {
   "codemirror_mode": {
    "name": "ipython",
    "version": 3
   },
   "file_extension": ".py",
   "mimetype": "text/x-python",
   "name": "python",
   "nbconvert_exporter": "python",
   "pygments_lexer": "ipython3",
   "version": "3.10.18"
  }
 },
 "nbformat": 4,
 "nbformat_minor": 4
}
