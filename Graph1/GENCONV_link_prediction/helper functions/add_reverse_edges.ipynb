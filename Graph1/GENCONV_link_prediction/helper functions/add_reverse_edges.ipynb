{
 "cells": [
  {
   "cell_type": "code",
   "execution_count": 2,
   "metadata": {},
   "outputs": [],
   "source": [
    "import torch\n"
   ]
  },
  {
   "cell_type": "code",
   "execution_count": 9,
   "metadata": {},
   "outputs": [],
   "source": [
    "# Load the graphs\n",
    "train_data = torch.load('data/directed_train_graph.pt')\n",
    "val_data   = torch.load('data/directed_val_graph.pt')\n",
    "test_data  = torch.load('data/directed_test_graph.pt')\n"
   ]
  },
  {
   "cell_type": "code",
   "execution_count": 10,
   "metadata": {},
   "outputs": [
    {
     "name": "stdout",
     "output_type": "stream",
     "text": [
      "Directed Training Data\n",
      "----------------------\n",
      "HeteroData(\n",
      "  lncRNA={ x=[1269, 2] },\n",
      "  protein={ x=[11585, 2] },\n",
      "  (lncRNA, interacts, protein)={\n",
      "    edge_index=[2, 5119],\n",
      "    edge_attr=[5119, 4],\n",
      "  },\n",
      "  (protein, interacts, protein)={\n",
      "    edge_index=[2, 59544],\n",
      "    edge_attr=[59544, 1],\n",
      "  }\n",
      ")\n",
      "Directed Validation Data\n",
      "------------------------\n",
      "HeteroData(\n",
      "  lncRNA={ x=[1269, 2] },\n",
      "  protein={ x=[11585, 2] },\n",
      "  (lncRNA, interacts, protein)={\n",
      "    edge_index=[2, 640],\n",
      "    edge_attr=[640, 4],\n",
      "  },\n",
      "  (protein, interacts, protein)={\n",
      "    edge_index=[2, 7443],\n",
      "    edge_attr=[7443, 1],\n",
      "  }\n",
      ")\n",
      "Directed Test Data\n",
      "------------------\n",
      "HeteroData(\n",
      "  lncRNA={ x=[1269, 2] },\n",
      "  protein={ x=[11585, 2] },\n",
      "  (lncRNA, interacts, protein)={\n",
      "    edge_index=[2, 640],\n",
      "    edge_attr=[640, 4],\n",
      "  },\n",
      "  (protein, interacts, protein)={\n",
      "    edge_index=[2, 7443],\n",
      "    edge_attr=[7443, 1],\n",
      "  }\n",
      ")\n"
     ]
    }
   ],
   "source": [
    "print('Directed Training Data')\n",
    "print('----------------------')\n",
    "print(train_data)\n",
    "\n",
    "print('Directed Validation Data')\n",
    "print('------------------------')\n",
    "print(val_data)\n",
    "\n",
    "print('Directed Test Data')\n",
    "print('------------------')\n",
    "print(test_data)\n"
   ]
  },
  {
   "cell_type": "code",
   "execution_count": 11,
   "metadata": {},
   "outputs": [],
   "source": [
    "from torch_geometric.data import HeteroData\n",
    "\n",
    "def make_undirected(data: HeteroData):\n",
    "    new_data = HeteroData()\n",
    "\n",
    "    # Copy original node features\n",
    "    for node_type in data.node_types:\n",
    "        new_data[node_type].x = data[node_type].x\n",
    "\n",
    "    # For every edge type, add reverse edges\n",
    "    for edge_type in data.edge_types:\n",
    "        src, rel, dst = edge_type\n",
    "        edge_index = data[edge_type].edge_index\n",
    "        edge_attr = data[edge_type].edge_attr if 'edge_attr' in data[edge_type] else None\n",
    "\n",
    "        # Add original\n",
    "        new_data[edge_type].edge_index = edge_index\n",
    "        if edge_attr is not None:\n",
    "            new_data[edge_type].edge_attr = edge_attr\n",
    "\n",
    "        # Add reverse\n",
    "        reversed_edge_index = edge_index[[1, 0], :]\n",
    "        reversed_edge_type = (dst, rel + '_rev', src)\n",
    "        new_data[reversed_edge_type].edge_index = reversed_edge_index\n",
    "        if edge_attr is not None:\n",
    "            new_data[reversed_edge_type].edge_attr = edge_attr  # same attr\n",
    "\n",
    "    return new_data\n"
   ]
  },
  {
   "cell_type": "code",
   "execution_count": 12,
   "metadata": {},
   "outputs": [],
   "source": [
    "train_data = make_undirected(train_data)\n",
    "val_data = make_undirected(val_data)\n",
    "test_data = make_undirected(test_data)"
   ]
  },
  {
   "cell_type": "code",
   "execution_count": 8,
   "metadata": {},
   "outputs": [
    {
     "name": "stdout",
     "output_type": "stream",
     "text": [
      "Undirected Training Data\n",
      "----------------------\n",
      "HeteroData(\n",
      "  lncRNA={ x=[1269, 2] },\n",
      "  protein={ x=[11585, 2] },\n",
      "  (lncRNA, interacts, protein)={\n",
      "    edge_index=[2, 5119],\n",
      "    edge_attr=[5119, 4],\n",
      "  },\n",
      "  (protein, interacts_rev, lncRNA)={\n",
      "    edge_index=[2, 5119],\n",
      "    edge_attr=[5119, 4],\n",
      "  },\n",
      "  (protein, interacts, protein)={\n",
      "    edge_index=[2, 59544],\n",
      "    edge_attr=[59544, 1],\n",
      "  },\n",
      "  (protein, interacts_rev, protein)={\n",
      "    edge_index=[2, 59544],\n",
      "    edge_attr=[59544, 1],\n",
      "  }\n",
      ")\n",
      "Undirected Validation Data\n",
      "------------------------\n",
      "HeteroData(\n",
      "  lncRNA={ x=[1269, 2] },\n",
      "  protein={ x=[11585, 2] },\n",
      "  (lncRNA, interacts, protein)={\n",
      "    edge_index=[2, 640],\n",
      "    edge_attr=[640, 4],\n",
      "  },\n",
      "  (protein, interacts_rev, lncRNA)={\n",
      "    edge_index=[2, 640],\n",
      "    edge_attr=[640, 4],\n",
      "  },\n",
      "  (protein, interacts, protein)={\n",
      "    edge_index=[2, 7443],\n",
      "    edge_attr=[7443, 1],\n",
      "  },\n",
      "  (protein, interacts_rev, protein)={\n",
      "    edge_index=[2, 7443],\n",
      "    edge_attr=[7443, 1],\n",
      "  }\n",
      ")\n",
      "Undirected Test Data\n",
      "------------------\n",
      "HeteroData(\n",
      "  lncRNA={ x=[1269, 2] },\n",
      "  protein={ x=[11585, 2] },\n",
      "  (lncRNA, interacts, protein)={\n",
      "    edge_index=[2, 640],\n",
      "    edge_attr=[640, 4],\n",
      "  },\n",
      "  (protein, interacts_rev, lncRNA)={\n",
      "    edge_index=[2, 640],\n",
      "    edge_attr=[640, 4],\n",
      "  },\n",
      "  (protein, interacts, protein)={\n",
      "    edge_index=[2, 7443],\n",
      "    edge_attr=[7443, 1],\n",
      "  },\n",
      "  (protein, interacts_rev, protein)={\n",
      "    edge_index=[2, 7443],\n",
      "    edge_attr=[7443, 1],\n",
      "  }\n",
      ")\n"
     ]
    }
   ],
   "source": [
    "print('Undirected Training Data')\n",
    "print('----------------------')\n",
    "print(train_data)\n",
    "\n",
    "print('Undirected Validation Data')\n",
    "print('------------------------')\n",
    "print(val_data)\n",
    "\n",
    "print('Undirected Test Data')\n",
    "print('------------------')\n",
    "print(test_data)\n"
   ]
  },
  {
   "cell_type": "code",
   "execution_count": 13,
   "metadata": {},
   "outputs": [],
   "source": [
    "## save graph.. \n",
    "torch.save(train_data, 'data/undirected_train_graph.pt')\n",
    "torch.save(val_data,   'data/undirected_val_graph.pt')\n",
    "torch.save(test_data,  'data/undirected_test_graph.pt')"
   ]
  },
  {
   "cell_type": "code",
   "execution_count": null,
   "metadata": {},
   "outputs": [],
   "source": []
  }
 ],
 "metadata": {
  "kernelspec": {
   "display_name": "Python (GNN Env)",
   "language": "python",
   "name": "gnn_env"
  },
  "language_info": {
   "codemirror_mode": {
    "name": "ipython",
    "version": 3
   },
   "file_extension": ".py",
   "mimetype": "text/x-python",
   "name": "python",
   "nbconvert_exporter": "python",
   "pygments_lexer": "ipython3",
   "version": "3.10.18"
  }
 },
 "nbformat": 4,
 "nbformat_minor": 4
}
