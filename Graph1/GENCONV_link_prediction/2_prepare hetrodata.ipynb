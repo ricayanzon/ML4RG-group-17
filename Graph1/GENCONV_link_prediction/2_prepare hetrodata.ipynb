{
 "cells": [
  {
   "cell_type": "code",
   "execution_count": 16,
   "metadata": {},
   "outputs": [],
   "source": [
    "import torch\n",
    "import pandas as pd\n",
    "from torch_geometric.data import HeteroData\n",
    "from sklearn.preprocessing import LabelEncoder"
   ]
  },
  {
   "cell_type": "code",
   "execution_count": 3,
   "metadata": {},
   "outputs": [],
   "source": [
    "# Load the file containing lncRNA–protein interactions\n",
    "lnc_protein_df = pd.read_excel(\"data/cleaned_lncRNA_interactions.xlsx\")\n",
    "\n",
    "# Load the protein–protein interactions file\n",
    "ppi_df = pd.read_excel(\"data/cleaned_PPI_interactions.xlsx\")"
   ]
  },
  {
   "cell_type": "code",
   "execution_count": 4,
   "metadata": {},
   "outputs": [
    {
     "name": "stdout",
     "output_type": "stream",
     "text": [
      "              node    type  degree\n",
      "0      SLC25A5-AS1  lncRNA       1\n",
      "1  ENST00000609697  lncRNA       1\n",
      "2          NMRAL2P  lncRNA       5\n",
      "3       FBXL19-AS1  lncRNA      11\n",
      "4    CCDC144NL-AS1  lncRNA       2\n",
      "12854\n"
     ]
    }
   ],
   "source": [
    "# Extract raw sets of nodes\n",
    "lnc_nodes_set = set(lnc_protein_df['node1'].unique())\n",
    "protein_nodes_set = set(lnc_protein_df['node2'].unique()) | set(ppi_df['gene1'].unique()) | set(ppi_df['gene2'].unique())\n",
    "\n",
    "# Build node → type mapping\n",
    "node_types = {}\n",
    "for node in lnc_nodes_set:\n",
    "    node_types[node] = 'lncRNA'\n",
    "for node in protein_nodes_set:\n",
    "    node_types[node] = 'protein' \n",
    "\n",
    "# Final node list + type\n",
    "all_nodes_df = pd.DataFrame(list(node_types.items()), columns=['node', 'type'])\n",
    "\n",
    "# calculate degree using all interactions\n",
    "all_node_occurrences = pd.concat([\n",
    "    lnc_protein_df['node1'], lnc_protein_df['node2'],\n",
    "    ppi_df['gene1'], ppi_df['gene2']\n",
    "], ignore_index=True)\n",
    "\n",
    "degree_counts = all_node_occurrences.value_counts().rename_axis('node').reset_index(name='degree')\n",
    "\n",
    "# Merge\n",
    "all_nodes_df = all_nodes_df.merge(degree_counts, on='node', how='left').fillna(0)\n",
    "all_nodes_df['degree'] = all_nodes_df['degree'].astype(int)\n",
    "\n",
    "print(all_nodes_df.head())\n",
    "print(len(all_nodes_df))\n"
   ]
  },
  {
   "cell_type": "code",
   "execution_count": 5,
   "metadata": {},
   "outputs": [
    {
     "name": "stdout",
     "output_type": "stream",
     "text": [
      "Number of lncRNA nodes: 1269\n",
      "Number of protein nodes: 11585\n"
     ]
    }
   ],
   "source": [
    "# Count how many nodes of each type we have\n",
    "node_type_counts = all_nodes_df['type'].value_counts()\n",
    "\n",
    "# Print the result\n",
    "print(\"Number of lncRNA nodes:\", node_type_counts.get('lncRNA', 0))\n",
    "print(\"Number of protein nodes:\", node_type_counts.get('protein', 0))\n"
   ]
  },
  {
   "cell_type": "code",
   "execution_count": 6,
   "metadata": {},
   "outputs": [
    {
     "data": {
      "text/html": [
       "<div>\n",
       "<style scoped>\n",
       "    .dataframe tbody tr th:only-of-type {\n",
       "        vertical-align: middle;\n",
       "    }\n",
       "\n",
       "    .dataframe tbody tr th {\n",
       "        vertical-align: top;\n",
       "    }\n",
       "\n",
       "    .dataframe thead th {\n",
       "        text-align: right;\n",
       "    }\n",
       "</style>\n",
       "<table border=\"1\" class=\"dataframe\">\n",
       "  <thead>\n",
       "    <tr style=\"text-align: right;\">\n",
       "      <th></th>\n",
       "      <th>node1</th>\n",
       "      <th>node2</th>\n",
       "      <th>regulatoryType</th>\n",
       "      <th>SearchregulatoryMechanism</th>\n",
       "      <th>diseaseCategory</th>\n",
       "      <th>regulatoryType.1</th>\n",
       "      <th>DiseaseName2</th>\n",
       "      <th>CancerLabel</th>\n",
       "      <th>node1Type</th>\n",
       "    </tr>\n",
       "  </thead>\n",
       "  <tbody>\n",
       "    <tr>\n",
       "      <th>0</th>\n",
       "      <td>LINC00313</td>\n",
       "      <td>miR-4429</td>\n",
       "      <td>binding/interaction</td>\n",
       "      <td>ceRNA or sponge</td>\n",
       "      <td>Cancer</td>\n",
       "      <td>binding/interaction</td>\n",
       "      <td>Thyroid cancer</td>\n",
       "      <td>Cancer</td>\n",
       "      <td>lncRNA</td>\n",
       "    </tr>\n",
       "    <tr>\n",
       "      <th>1</th>\n",
       "      <td>FAM83H-AS1</td>\n",
       "      <td>CDKN1A</td>\n",
       "      <td>regulation</td>\n",
       "      <td>epigenetic regulation</td>\n",
       "      <td>Cancer</td>\n",
       "      <td>regulation</td>\n",
       "      <td>Brain glioma</td>\n",
       "      <td>Cancer</td>\n",
       "      <td>lncRNA</td>\n",
       "    </tr>\n",
       "    <tr>\n",
       "      <th>2</th>\n",
       "      <td>NEAT1</td>\n",
       "      <td>TGFB1</td>\n",
       "      <td>association</td>\n",
       "      <td>ceRNA or sponge</td>\n",
       "      <td>Cancer</td>\n",
       "      <td>association</td>\n",
       "      <td>Liver cancer</td>\n",
       "      <td>Cancer</td>\n",
       "      <td>lncRNA</td>\n",
       "    </tr>\n",
       "    <tr>\n",
       "      <th>3</th>\n",
       "      <td>NEAT1</td>\n",
       "      <td>ZEB1</td>\n",
       "      <td>regulation</td>\n",
       "      <td>ceRNA or sponge</td>\n",
       "      <td>Cancer</td>\n",
       "      <td>regulation</td>\n",
       "      <td>Breast cancer</td>\n",
       "      <td>Cancer</td>\n",
       "      <td>lncRNA</td>\n",
       "    </tr>\n",
       "    <tr>\n",
       "      <th>4</th>\n",
       "      <td>ZFPM2-AS1</td>\n",
       "      <td>MIF</td>\n",
       "      <td>binding/interaction</td>\n",
       "      <td>interact with protein</td>\n",
       "      <td>Cancer</td>\n",
       "      <td>binding/interaction</td>\n",
       "      <td>Gastric cancer</td>\n",
       "      <td>Cancer</td>\n",
       "      <td>lncRNA</td>\n",
       "    </tr>\n",
       "  </tbody>\n",
       "</table>\n",
       "</div>"
      ],
      "text/plain": [
       "        node1     node2       regulatoryType SearchregulatoryMechanism  \\\n",
       "0   LINC00313  miR-4429  binding/interaction           ceRNA or sponge   \n",
       "1  FAM83H-AS1    CDKN1A           regulation     epigenetic regulation   \n",
       "2       NEAT1     TGFB1          association           ceRNA or sponge   \n",
       "3       NEAT1      ZEB1           regulation           ceRNA or sponge   \n",
       "4   ZFPM2-AS1       MIF  binding/interaction     interact with protein   \n",
       "\n",
       "  diseaseCategory     regulatoryType.1    DiseaseName2 CancerLabel node1Type  \n",
       "0          Cancer  binding/interaction  Thyroid cancer      Cancer    lncRNA  \n",
       "1          Cancer           regulation    Brain glioma      Cancer    lncRNA  \n",
       "2          Cancer          association    Liver cancer      Cancer    lncRNA  \n",
       "3          Cancer           regulation   Breast cancer      Cancer    lncRNA  \n",
       "4          Cancer  binding/interaction  Gastric cancer      Cancer    lncRNA  "
      ]
     },
     "execution_count": 6,
     "metadata": {},
     "output_type": "execute_result"
    }
   ],
   "source": [
    "lnc_protein_df.head()"
   ]
  },
  {
   "cell_type": "code",
   "execution_count": 7,
   "metadata": {},
   "outputs": [
    {
     "name": "stdout",
     "output_type": "stream",
     "text": [
      "       source    target              mechanism  cancer         disease  \\\n",
      "0   LINC00313  miR-4429        ceRNA or sponge       1  Thyroid cancer   \n",
      "1  FAM83H-AS1    CDKN1A  epigenetic regulation       1    Brain glioma   \n",
      "2       NEAT1     TGFB1        ceRNA or sponge       1    Liver cancer   \n",
      "3       NEAT1      ZEB1        ceRNA or sponge       1   Breast cancer   \n",
      "4   ZFPM2-AS1       MIF  interact with protein       1  Gastric cancer   \n",
      "\n",
      "           interaction  \n",
      "0  binding/interaction  \n",
      "1           regulation  \n",
      "2          association  \n",
      "3           regulation  \n",
      "4  binding/interaction  \n"
     ]
    }
   ],
   "source": [
    "# Start from the lncRNA–protein interaction DataFrame\n",
    "# We'll extract the edges and attach edge features\n",
    "\n",
    "# Select relevant columns only\n",
    "lp_edges_df = lnc_protein_df[['node1', 'node2', 'SearchregulatoryMechanism', 'CancerLabel', 'DiseaseName2', 'regulatoryType.1']].copy()\n",
    "\n",
    "# Rename the columns for clarity\n",
    "lp_edges_df.columns = ['source', 'target', 'mechanism', 'cancer', 'disease', 'interaction']\n",
    "\n",
    "# Convert 'CancerLabel' to binary: 1 if \"Cancer\", 0 otherwise\n",
    "lp_edges_df['cancer'] = (lp_edges_df['cancer'] == 'Cancer').astype(int)\n",
    "\n",
    "# Show some samples\n",
    "print(lp_edges_df.head())\n"
   ]
  },
  {
   "cell_type": "code",
   "execution_count": 8,
   "metadata": {},
   "outputs": [
    {
     "name": "stdout",
     "output_type": "stream",
     "text": [
      "Mechanism label mapping: {'ceRNA or sponge': 0, 'chromatin looping': 1, 'epigenetic regulation': 2, 'expression association': 3, 'interact with mRNA': 4, 'interact with protein': 5, 'transcriptional regulation': 6}\n",
      "       source    target              mechanism  cancer         disease  \\\n",
      "0   LINC00313  miR-4429        ceRNA or sponge       1  Thyroid cancer   \n",
      "1  FAM83H-AS1    CDKN1A  epigenetic regulation       1    Brain glioma   \n",
      "2       NEAT1     TGFB1        ceRNA or sponge       1    Liver cancer   \n",
      "3       NEAT1      ZEB1        ceRNA or sponge       1   Breast cancer   \n",
      "4   ZFPM2-AS1       MIF  interact with protein       1  Gastric cancer   \n",
      "\n",
      "           interaction  mechanism_encoded  \n",
      "0  binding/interaction                  0  \n",
      "1           regulation                  2  \n",
      "2          association                  0  \n",
      "3           regulation                  0  \n",
      "4  binding/interaction                  5  \n"
     ]
    }
   ],
   "source": [
    "# Create the encoder and fit it to the 'mechanism' column\n",
    "mechanism_encoder = LabelEncoder()\n",
    "lp_edges_df['mechanism_encoded'] = mechanism_encoder.fit_transform(lp_edges_df['mechanism'])\n",
    "\n",
    "# check how each mechanism was encoded\n",
    "mechanism_mapping = dict(zip(mechanism_encoder.classes_, mechanism_encoder.transform(mechanism_encoder.classes_)))\n",
    "print(\"Mechanism label mapping:\", mechanism_mapping)\n",
    "\n",
    "# Show updated DataFrame\n",
    "print(lp_edges_df.head())\n"
   ]
  },
  {
   "cell_type": "code",
   "execution_count": 14,
   "metadata": {},
   "outputs": [
    {
     "name": "stdout",
     "output_type": "stream",
     "text": [
      "interaction label mapping: {'association': 0, 'binding/interaction': 1, 'regulation': 2}\n",
      "       source    target              mechanism  cancer         disease  \\\n",
      "0   LINC00313  miR-4429        ceRNA or sponge       1  Thyroid cancer   \n",
      "1  FAM83H-AS1    CDKN1A  epigenetic regulation       1    Brain glioma   \n",
      "2       NEAT1     TGFB1        ceRNA or sponge       1    Liver cancer   \n",
      "3       NEAT1      ZEB1        ceRNA or sponge       1   Breast cancer   \n",
      "4   ZFPM2-AS1       MIF  interact with protein       1  Gastric cancer   \n",
      "\n",
      "           interaction  mechanism_encoded  disease_encoded  \\\n",
      "0  binding/interaction                  0              210   \n",
      "1           regulation                  2               27   \n",
      "2          association                  0              125   \n",
      "3           regulation                  0               29   \n",
      "4  binding/interaction                  5               84   \n",
      "\n",
      "   interaction_encoded  \n",
      "0                    1  \n",
      "1                    2  \n",
      "2                    0  \n",
      "3                    2  \n",
      "4                    1  \n"
     ]
    }
   ],
   "source": [
    "# Create the encoder and fit it to the 'interaction' column\n",
    "interaction_encoder = LabelEncoder()\n",
    "lp_edges_df['interaction_encoded'] = interaction_encoder.fit_transform(lp_edges_df['interaction'])\n",
    "\n",
    "# check how each mechanism was encoded\n",
    "interaction_mapping = dict(zip(interaction_encoder.classes_, interaction_encoder.transform(interaction_encoder.classes_)))\n",
    "print(\"interaction label mapping:\", interaction_mapping)\n",
    "\n",
    "# Show updated DataFrame\n",
    "print(lp_edges_df.head())\n"
   ]
  },
  {
   "cell_type": "code",
   "execution_count": 15,
   "metadata": {},
   "outputs": [
    {
     "name": "stdout",
     "output_type": "stream",
     "text": [
      "       source    target              mechanism  cancer         disease  \\\n",
      "0   LINC00313  miR-4429        ceRNA or sponge       1  Thyroid cancer   \n",
      "1  FAM83H-AS1    CDKN1A  epigenetic regulation       1    Brain glioma   \n",
      "2       NEAT1     TGFB1        ceRNA or sponge       1    Liver cancer   \n",
      "3       NEAT1      ZEB1        ceRNA or sponge       1   Breast cancer   \n",
      "4   ZFPM2-AS1       MIF  interact with protein       1  Gastric cancer   \n",
      "\n",
      "           interaction  mechanism_encoded  disease_encoded  \\\n",
      "0  binding/interaction                  0              210   \n",
      "1           regulation                  2               27   \n",
      "2          association                  0              125   \n",
      "3           regulation                  0               29   \n",
      "4  binding/interaction                  5               84   \n",
      "\n",
      "   interaction_encoded  \n",
      "0                    1  \n",
      "1                    2  \n",
      "2                    0  \n",
      "3                    2  \n",
      "4                    1  \n"
     ]
    }
   ],
   "source": [
    "# Create the encoder and fit it to the 'disease' column\n",
    "disease_encoder = LabelEncoder()\n",
    "lp_edges_df['disease_encoded'] = mechanism_encoder.fit_transform(lp_edges_df['disease'])\n",
    "print(lp_edges_df.head())"
   ]
  },
  {
   "cell_type": "code",
   "execution_count": 17,
   "metadata": {},
   "outputs": [
    {
     "name": "stdout",
     "output_type": "stream",
     "text": [
      "     source target  score\n",
      "0     RAB5A   GGA1    794\n",
      "1      ARF6   GGA1    819\n",
      "2     BACE1   GGA1    979\n",
      "3    CDKN2A   GGA1    746\n",
      "4  TRAPPC6A  RAB1B    817\n"
     ]
    }
   ],
   "source": [
    "# Rename columns for consistency\n",
    "ppi_df = ppi_df.rename(columns={\n",
    "    'gene1': 'source',\n",
    "    'gene2': 'target',\n",
    "    'combined_score': 'score'\n",
    "})\n",
    "\n",
    "# Show the first few rows\n",
    "print(ppi_df.head())\n"
   ]
  },
  {
   "cell_type": "code",
   "execution_count": 18,
   "metadata": {},
   "outputs": [
    {
     "name": "stdout",
     "output_type": "stream",
     "text": [
      "1269\n",
      "11585\n"
     ]
    }
   ],
   "source": [
    "# Get list of all lncRNA node names\n",
    "lnc_nodes = all_nodes_df[all_nodes_df['type'] == 'lncRNA']['node'].tolist()\n",
    "print(len(lnc_nodes))\n",
    "#print(lnc_nodes)\n",
    "\n",
    "# Get list of all protein node names\n",
    "protein_nodes = all_nodes_df[all_nodes_df['type'] == 'protein']['node'].tolist()\n",
    "print(len(protein_nodes))"
   ]
  },
  {
   "cell_type": "code",
   "execution_count": 19,
   "metadata": {},
   "outputs": [
    {
     "name": "stdout",
     "output_type": "stream",
     "text": [
      "              node    type\n",
      "0      SLC25A5-AS1  lncRNA\n",
      "1  ENST00000609697  lncRNA\n",
      "2          NMRAL2P  lncRNA\n",
      "3       FBXL19-AS1  lncRNA\n",
      "4    CCDC144NL-AS1  lncRNA\n",
      "1269\n",
      "        node     type\n",
      "0     ACOT12  protein\n",
      "1     MRPL21  protein\n",
      "2     RPL10A  protein\n",
      "3  LINC02218  protein\n",
      "4      PTGES  protein\n",
      "11585\n"
     ]
    }
   ],
   "source": [
    "# Create node type DataFrames\n",
    "lnc_df = pd.DataFrame({'node': lnc_nodes, 'type': 'lncRNA'})\n",
    "protein_df = pd.DataFrame({'node': protein_nodes, 'type': 'protein'})\n",
    "\n",
    "print(lnc_df.head())\n",
    "print(len(lnc_df))\n",
    "print(protein_df.head())\n",
    "print(len(protein_df))"
   ]
  },
  {
   "cell_type": "code",
   "execution_count": 21,
   "metadata": {},
   "outputs": [
    {
     "name": "stdout",
     "output_type": "stream",
     "text": [
      "1269\n",
      "{'SLC25A5-AS1': 0, 'ENST00000609697': 1, 'NMRAL2P': 2, 'FBXL19-AS1': 3, 'CCDC144NL-AS1': 4, 'FGF13-AS1': 5, 'lnc-bc060912': 6, 'HNRNPKP2': 7, 'AC003092.1': 8, 'LncRNA-HGBC': 9, 'PSMG3-AS1': 10, 'NBAT1': 11, 'LINC01426': 12, 'CBR3-AS1': 13, 'HIF1A-AS1': 14, 'OXCT1-AS1': 15, 'lncRNA-135528': 16, 'LINC01224': 17, 'HOXA10-AS': 18, 'B4GALT1-AS1': 19, 'BALR-6': 20, 'CALML3-AS1': 21, 'RP11-531A24.3': 22, 'LINC00997': 23, 'SMIM45': 24, 'MIR7-3HG': 25, 'SNHG17': 26, 'LOC285194': 27, 'LINC00261': 28, 'RP11-296A18.3': 29, 'COMETT': 30, 'lncRNACNN3-206': 31, 'NFIA-AS2': 32, 'TSPOAP1-AS1': 33, 'PXN-AS1': 34, 'lncATB': 35, 'PCAT19': 36, 'CCND2-AS1': 37, 'lncRNA-6195': 38, 'PINK1-AS': 39, 'PBB12': 40, 'Lnc-HZ08': 41, 'MCM3AP-AS1': 42, 'DUBR': 43, 'GATA2-AS1': 44, 'SLNCR1': 45, 'ZNF667-AS1': 46, 'Gm15290': 47, 'LINC00355': 48, 'RP11-436H11.5': 49, 'MFI2': 50, 'PCAT6': 51, 'C5orf66-AS1': 52, 'LINC00858': 53, 'SOD2-OT1': 54, 'RP5-857K21.7': 55, 'PURPL': 56, 'KRT19P3': 57, 'RSU1P2': 58, 'LINC00887': 59, 'KRT7-AS': 60, 'SNHG6': 61, 'TCL6': 62, 'SLC7A11-AS1': 63, 'GASAL1': 64, 'uc.339': 65, 'SSATX': 66, 'LINC00346': 67, 'TBX5-AS1:2': 68, 'IATPR': 69, 'LINC01048': 70, 'ADAMTS9-AS2': 71, 'CTBP1-DT': 72, 'LINC00689': 73, 'MGAT3-AS1': 74, 'Lnc-EGFR': 75, 'HAR1A': 76, 'ITIH4-AS1': 77, 'LINC02200': 78, 'LINC01518': 79, 'LINC00477': 80, 'LINC00304': 81, 'FAM99A': 82, 'RBAT1': 83, 'RGMB-AS1': 84, 'linc-UFC1': 85, 'ERLR': 86, 'RP11-323N12.5': 87, 'MDC1-AS1': 88, 'AC016745.3': 89, 'SCARNA2': 90, 'ACTA2-AS1': 91, 'MYOSLID': 92, 'THORLNC': 93, 'RAB4B-EGLN2': 94, 'PICSAR': 95, 'ERLNC1': 96, 'SENEBLOC': 97, 'LINC01385': 98, 'GIAT4RA': 99, 'FAM201A': 100, 'MITA1': 101, 'LINC01006': 102, 'PHBP1': 103, 'RMRP': 104, 'LINC02835': 105, 'TG2-lncRNA': 106, 'PSMA3-AS1': 107, 'MROS-1': 108, 'HOTTIP': 109, 'LncRNATCF7': 110, 'HK2P1': 111, 'PANTR1': 112, 'THAP9-AS1': 113, 'STARD13-AS': 114, 'LINC00630': 115, 'lnc-BAZ2B': 116, 'LPAL2': 117, 'DLGAP1-AS2': 118, 'LINC01446': 119, 'FAM30A': 120, 'CASC19': 121, 'LOC105369748': 122, 'TRG-AS1': 123, 'RN7SK': 124, 'TFAP2A-AS1': 125, 'KDM4A-AS1': 126, 'HNF4A-AS1': 127, 'LNCARSR': 128, 'PICART1': 129, 'MIR222HG': 130, 'RP11-468E2.5': 131, 'PSG10P': 132, 'DLGAP1-AS1': 133, 'AZIN2-sv': 134, 'Lnc-UCID': 135, 'LINC00491': 136, 'LNCDQ': 137, 'FGFR3-AS1': 138, 'GSEC': 139, 'OECC': 140, 'RP11-598D14.1': 141, 'MIR497HG': 142, 'RP11-789C1.1': 143, 'AC091729.7': 144, 'ARFRP1': 145, 'LINC01391': 146, 'TINCR': 147, 'XIAP-AS1': 148, 'MRPL23-AS1': 149, 'TASR': 150, 'LINC00339': 151, 'PFI': 152, 'XLOC_000647': 153, 'GRASLND': 154, 'FGD5': 155, 'lncRNA-TTN-AS1': 156, 'MIR155HG': 157, 'MST1P2': 158, 'AL589986.2': 159, 'OSER1-DT': 160, 'BC050642': 161, 'AC005592.2': 162, 'LINC00426': 163, 'NALT1': 164, 'GClnc1': 165, 'A2M-AS1': 166, 'APTR': 167, 'ELFN1-AS1': 168, 'AU021063': 169, 'NR2F1-AS1': 170, 'PCAT7': 171, 'CERNA2': 172, 'NONHSAG045500': 173, 'PDPK2P': 174, 'DRHC': 175, 'LINC00319': 176, 'AF131217.1': 177, 'MDRL': 178, 'LINC01419': 179, 'LASP1-AS': 180, 'AC096664.3': 181, 'LINC01133': 182, 'MROCKI': 183, 'TPTEP1': 184, 'TCONS_00034812': 185, 'ARAP1-AS1': 186, 'SLCO4A1-AS1': 187, 'LOC441178': 188, 'TRPM2-AS': 189, 'LINC00400': 190, 'LINC00667': 191, 'CRYBG3': 192, 'LINC01929': 193, 'LOC105372579': 194, 'SAMMSON': 195, 'LINC00160': 196, 'NR026833.1': 197, 'EPIC1': 198, 'RP1': 199, 'AB074278': 200, 'SBF2-AS1': 201, 'Gm44593': 202, 'TMEM238L': 203, 'RP11-395G23.3': 204, 'MIR17HG': 205, 'RPL13AP23': 206, 'LNCRNA-ATB': 207, 'TLR8-AS1': 208, 'LncDACH1': 209, 'GAS6-DT': 210, 'C2orf92': 211, 'LUNAR1': 212, 'APF': 213, 'LINC01615': 214, 'PGK1P2': 215, 'Lnc-BM': 216, 'AK027294': 217, 'RP11-2B6.2': 218, 'DGUOK-AS1': 219, 'MIR29B2CHG': 220, 'ENST00000437781.1': 221, 'H19': 222, 'LncIHAT': 223, 'CACS15': 224, 'CARMN': 225, 'FER1L4': 226, 'W42': 227, 'PTENP1': 228, 'DPP10-AS1': 229, 'LINC01551': 230, 'AL355711': 231, 'SOX2-OT': 232, 'SCHLAP1': 233, 'ST8SIA6-AS1': 234, 'FOXD3-AS1': 235, 'LNC00312': 236, 'AC093818.1': 237, 'RPL13AP20': 238, 'GSTP1P1': 239, 'LINC00852': 240, 'LINC000607': 241, 'HOXC-AS1': 242, 'LGMNP1': 243, 'LY6E-DT': 244, 'SIRT1-AS': 245, 'UC.134': 246, 'LINC02620': 247, 'PXN-AS1-L': 248, 'SCDAL': 249, 'CHROMR': 250, 'HIF1A-AS4': 251, 'HANR': 252, 'ZFAS2': 253, '1700020I14Rik': 254, 'MIR570MG': 255, 'MT1DP': 256, 'HCG22': 257, 'HOXA-AS3': 258, 'DLG1-AS1': 259, 'XIXT': 260, 'LOC646616': 261, 'HULC': 262, 'TATDN3': 263, 'LINC01342': 264, 'LOC101927746': 265, 'lncR-D63785': 266, 'SPAG5-AS1': 267, 'HIF1A-AS2': 268, 'ATP2B1-AS1': 269, 'ZXF2': 270, 'ANKRD40CL': 271, 'MIR99AHG': 272, 'lnc-HSD17B11-1:1': 273, 'SNAI3-AS1': 274, 'PHACTR2-AS1': 275, 'Hmrhl': 276, 'lncRNA-FA2H-2': 277, 'AL049437': 278, 'GCAWKR': 279, 'Ang262': 280, 'BANCR': 281, 'LINC00973': 282, 'MEG3': 283, 'SDCBP2-AS1': 284, 'AC016405.3': 285, 'LINC00528': 286, 'LINC01619': 287, 'AC132217.4': 288, 'LSINCT5': 289, 'HATAIR': 290, 'TPT1-AS1': 291, 'AK058003': 292, 'LINC00311': 293, 'IQANK1': 294, 'PVT1-5': 295, 'IUR': 296, 'AND2-AS1': 297, 'ARAP1-AS2': 298, 'Linc-00313': 299, 'VIM-AS2': 300, 'RP11-169D4.1': 301, 'EBF3-AS': 302, 'MANCR': 303, 'LATS2-AS1-001': 304, 'AF113014': 305, 'lncRNA-PRLB': 306, 'LINC00092': 307, 'FUNDC2P4': 308, 'NRCP': 309, 'VESTAR': 310, 'LOC134466': 311, 'GAS5-AS1': 312, 'LINC00662': 313, 'PWAR6': 314, 'NTT': 315, 'HOXB13-AS1': 316, 'LINC01018': 317, 'lncRNA 00312': 318, 'lncRNA-IFI6': 319, 'COPDA1': 320, 'LINC00221': 321, 'VPS9D1-AS1': 322, 'IL1R1-AS1': 323, 'LINC81507': 324, 'LOC440173': 325, 'PACERR': 326, 'LL22NC03-N64E9.1': 327, 'PTPRG-AS1': 328, 'LINC01225': 329, 'PVT1': 330, 'TPTE2P1': 331, 'AC012213.3': 332, 'AC009084.3': 333, 'RCC2-AS1': 334, 'TNRC6C-AS1': 335, 'SNHG16': 336, 'LINC00460': 337, 'MINCR': 338, 'lncRNA-PAICC': 339, 'RP11-708H21.4': 340, 'ARHGAP5-AS1': 341, 'THRIL': 342, 'BG981369': 343, 'RP11-543N12.1': 344, 'EZR-AS1': 345, 'FKBP9P1': 346, 'LINC01149': 347, 'LINC00176': 348, 'LINC01510': 349, 'LINC01638': 350, 'CTC-497E21.4': 351, 'LINC01714': 352, 'PRNCR1': 353, 'MSTO2P': 354, 'LOC90784': 355, 'AC024560.2': 356, 'CCDC26': 357, 'lncBCAS1-4_1': 358, 'SCIRT': 359, 'DANCR': 360, 'LOC728196': 361, 'LINC01088': 362, 'SNHG12': 363, 'HLA-F-AS1': 364, 'LINC00665': 365, 'CHRF': 366, 'CRCMSL': 367, 'lncGALM': 368, 'MIR4435-2HG': 369, 'LncHrt': 370, 'ILF3-DT': 371, 'CCR5AS': 372, 'lncRNA-CTD-2108O9.1': 373, 'LINC00839': 374, 'LINC00210': 375, 'HOXO-AS1': 376, 'CASC11': 377, 'MSX2P1': 378, 'LINC01152': 379, 'PKMYT1AR': 380, 'HIF1A-AS3': 381, 'LINC01303': 382, 'ZFPM2-AS1': 383, 'OTUD6B-AS1': 384, 'circ-PSEN1': 385, 'HHIP-AS1': 386, 'TUSC7': 387, 'DICER1-AS1': 388, 'PAX8-AS1': 389, 'BCYRN1': 390, 'XLOC-00846': 391, 'LINC01093': 392, 'CCEPR': 393, 'LINC00554': 394, 'LINC00899': 395, 'KTN1-AS1': 396, 'PCAT18': 397, 'SMAD5-AS1': 398, 'BM450697': 399, 'TMEM18-DT': 400, 'LINC00659': 401, 'SLC26A4-AS1': 402, 'NONHSAT101069': 403, 'NONHSAT113026': 404, 'LINC00312': 405, 'HIX003209': 406, 'AC007271.3': 407, 'Linc-SCRG1': 408, 'LCAT1': 409, 'ADAMTS9-AS1': 410, 'lncRNA-Unigene56159': 411, 'GEHT1': 412, 'COL1A1-014': 413, 'LINC01138': 414, 'LINC01061': 415, 'CCAT2': 416, 'LNRRIL6': 417, 'Linc8087': 418, 'RP11': 419, 'LBX2-AS1': 420, 'DINOL': 421, 'Lnc00908': 422, 'lnc-GNAT1-1': 423, 'PVTL5': 424, 'CRNDE': 425, 'lnc-TSI': 426, 'KCNQ1OT1': 427, 'LOC100507600': 428, 'SNHG9': 429, 'LncRNA-SRA1': 430, 'PNCTR': 431, 'PCDHB17P': 432, 'AP000439.3': 433, 'LDC1P': 434, 'RAB11B-AS1': 435, 'LINC01980': 436, 'LncHOXA10': 437, 'LINC00963': 438, 'LINC01111': 439, 'LOC105374325': 440, 'PTCSC3': 441, 'HOXC-AS2': 442, 'LINC00173': 443, 'FOXP4-AS': 444, '91H': 445, 'MSC-AS1': 446, 'lnc-RAB1A-2': 447, 'CA3-AS1': 448, 'NONHSAT140844': 449, 'DUXAP8': 450, 'MIR210HG': 451, 'IL21-AS1': 452, 'CCAL': 453, 'KB-1471A8.2': 454, 'LINC01611': 455, 'Lnc-EPIC1': 456, 'CHAR': 457, 'LINC02041': 458, 'LOC100506178': 459, 'WDR7-7': 460, 'ABHD11-AS1': 461, 'KLF3-AS1': 462, 'LINC00459': 463, 'RP11-552M11.4': 464, 'NONHSAT143692.2': 465, 'TROJAN': 466, 'BORG': 467, 'Uc003xsl.1': 468, 'WDR86-AS1': 469, 'TP53COR1': 470, 'ABALON': 471, 'MIAT': 472, 'CAT104': 473, 'uc.38': 474, 'FAM225B': 475, 'MIR3936HG': 476, 'MAARS': 477, 'TP73-AS1': 478, 'URRCC': 479, 'PDIA3P1': 480, 'RP5-1024C24.1': 481, 'LINC00941': 482, 'LINC00707': 483, 'LACAT1': 484, 'LNC000093': 485, 'LINC0086': 486, 'XIC': 487, 'DUXAP9-206': 488, 'LINC00518': 489, 'LINC00619': 490, 'LINC00475': 491, 'lncRNA-5657': 492, 'TANAR': 493, 'LINC01555': 494, 'CASC21': 495, 'TRERNA1': 496, 'PLACT1': 497, 'LNC-HZ01': 498, 'ATB': 499, 'CDKN2B-AS1': 500, 'IRF1-AS': 501, 'SSTR5-AS1': 502, 'circ_0029589': 503, 'NEAT1_2': 504, 'RBM5-AS1': 505, 'C1QTNF1-AS1': 506, 'LEF1-AS1': 507, 'TCAM1P-004': 508, 'ST7-AS1': 509, 'IDH1-AS1': 510, 'SNHG3': 511, 'lincNMR': 512, 'LINC00641': 513, 'LINC01355': 514, 'SLC16A1-AS1': 515, 'VPS13B-DT': 516, 'PCED1B-AS1': 517, 'LINC01089': 518, 'HOXC-AS3': 519, 'SEMA3B-AS1': 520, 'CACNA1G-AS1': 521, 'LNMAT2': 522, 'lncRNA-NUTF2P3-001': 523, 'NKX2-1-AS1': 524, 'CERS6-AS1': 525, 'TRIM52-AS1': 526, 'PSMD6-AS1': 527, 'Unigene56159': 528, 'TBILA': 529, 'DLEU1': 530, 'PWAR5': 531, 'LINC02273': 532, 'Olfr29-ps1': 533, 'RP1-90L14.1': 534, 'SGMS1-AS1': 535, 'LINC00974': 536, 'SNHG15': 537, 'BABAM2-AS1': 538, 'lncRNA-ECM': 539, 'LUCAT1': 540, 'LINC01094': 541, 'ID2-AS1': 542, 'MTA2TR': 543, 'LINC01170': 544, 'RAD51-AS1': 545, 'RP11-301G19.1': 546, 'PRKAR1B-AS2': 547, 'MIR503HG': 548, 'LMCD1-AS1': 549, 'AF119895': 550, 'LOC100129620': 551, 'SNHG22': 552, 'TATDN1': 553, 'ZFAS1': 554, 'MIR181A2HG': 555, 'Lnc-STYK1-2': 556, 'PAXIP1-DT': 557, 'PILRLS': 558, 'AK002210': 559, 'XLOC_006390': 560, 'DDN-AS1': 561, 'EPIST': 562, 'PEBP1P2': 563, 'TCONS_00023297': 564, 'GHET1': 565, 'BRD3OS': 566, 'PINT87aa': 567, 'HMMR-AS1': 568, 'lncRNAuc001.dgp.1': 569, 'LINC00857': 570, 'LINC00589': 571, 'PCAT14': 572, 'CAR10': 573, 'LNCBRM': 574, 'LINC02245': 575, 'RP11-476D10.1': 576, 'HOMER3-AS1': 577, 'LINC-PINT': 578, 'NR_003923': 579, 'SANT1': 580, 'DGCR5': 581, 'ECRG4': 582, 'SNHG7': 583, 'lnc-ABCA12-3': 584, 'AK126698': 585, 'LOC101930370': 586, 'ITGB2-AS1': 587, 'LINC01287': 588, 'LNCNEF': 589, 'ENST00000602558.1': 590, 'CTC': 591, 'HERES': 592, 'HEIH': 593, 'LINC00682': 594, 'EMSLR': 595, 'SNHG1': 596, 'Lnc-ATG9B-4': 597, 'IGFBP4-1': 598, 'lnc-MMP2-2': 599, 'RHPN1-AS1': 600, 'LncRNA-TWIST1': 601, 'LOC100505817': 602, 'LINC00536': 603, 'AK006025': 604, 'MAPKAPK5-AS1': 605, 'MIR31HG': 606, 'LINC00702': 607, 'ICMT-DT': 608, 'lncRNA-14327.1': 609, 'GABPB1-AS1': 610, 'DACOR1': 611, 'circRNA_000543': 612, 'LINC01605': 613, 'OR3A4P': 614, 'NRON': 615, 'BC032469': 616, 'LncRNA-HIT': 617, 'LINC00847': 618, 'EPEL': 619, 'RP11-190D6.2': 620, 'UCC': 621, 'GRIK1-AS1': 622, 'SNHG14': 623, 'A1BG-AS1': 624, 'LINC00473': 625, 'HSPA7': 626, 'RUNX1-IT1': 627, 'TSIX': 628, 'LINC02465': 629, 'DCST1-AS1': 630, 'AFAP1-AS1': 631, 'BFAL1': 632, 'HAND2-AS1': 633, 'ENST00000413528': 634, 'LINC00205': 635, 'FAM224A': 636, 'SNHG11': 637, 'LINC00908': 638, 'FAFASA-AS1': 639, 'RUSC1-AS1': 640, 'RASSF1-AS1': 641, 'LINC00612': 642, 'SPINT1-AS1': 643, 'FAM66C': 644, 'AL163636.1': 645, 'CTBP1-AS': 646, 'MVIH': 647, 'FOXD2-AS1': 648, 'SMILR': 649, 'DUXAP9': 650, 'LncHDAC2': 651, 'FOXD1-AS1': 652, 'LINC00174': 653, 'FAM225A': 654, 'HOTAIRM1': 655, 'LINP1': 656, 'lncZBTB39': 657, 'COL1A2-AS1': 658, 'TPM1-AS': 659, 'ACTG1P25': 660, 'STXBP5-AS1': 661, 'MELTF': 662, 'CamK-A': 663, 'ATXN8OS': 664, 'lncRNA-ENST00000411554': 665, 'KCNMA1-AS1': 666, 'SYNE1-AS1': 667, 'WDFY3-AS2': 668, 'MIR22HG': 669, 'FERRE': 670, 'XLOC_001659': 671, 'Ahit': 672, 'AB073614': 673, 'MCTP1-AS1': 674, 'BAN': 675, 'PFAR': 676, 'SCAT1': 677, 'LIFR-AS1': 678, 'KDM7A-DT': 679, 'HOXB-AS1': 680, 'H23': 681, 'N-BLR': 682, 'lncRNA-CTS': 683, 'OIS1': 684, 'BLACAT1': 685, 'MAGI2-AS3': 686, 'Giver': 687, 'SOX21-AS1': 688, 'LUADT1': 689, 'AC123023.1': 690, 'ASMTL-AS1': 691, 'u50535': 692, 'WWC2-AS1': 693, 'LINC01128': 694, 'uc003fir': 695, 'KIMAT1': 696, 'AK002107': 697, 'LAPAS1': 698, 'ZNF710-AS1-202': 699, 'GATA3-AS1': 700, 'CASC15': 701, 'LINC00987': 702, 'SAP30-2:1': 703, 'BX357664': 704, 'LINC00461': 705, 'LOXL1-AS1': 706, 'lncRNA¿CCDC6': 707, 'PTCSC1': 708, 'LINC02418': 709, 'Moshe': 710, 'LINC00184': 711, 'LncRNA-OBFC2A': 712, 'SATB2-AS1': 713, 'TONSL-AS1': 714, 'OLA1P2': 715, 'HMGA2-AS1': 716, 'IGF2-AS': 717, 'SNHG6-003': 718, 'CISAL': 719, 'PCNAP1': 720, '7SK': 721, 'LINC00629': 722, 'LINC02525': 723, 'NONHSAT009986': 724, 'ROCR': 725, 'LCTS5': 726, 'DBH-AS1': 727, 'NNT-AS1': 728, 'MALINC1': 729, 'CASC7': 730, 'GNAS-AS1': 731, 'VIM-AS3': 732, 'OIP5-AS1': 733, 'AP002754.2': 734, 'P5848': 735, 'SNHG20': 736, 'ROR1-AS1': 737, 'ZEB2-AS1': 738, 'HCG11': 739, 'HOXB-AS3': 740, 'ELDR': 741, 'NRIR': 742, 'LINC01278': 743, 'ELF3-AS1': 744, 'GCM1': 745, 'LINC01410': 746, 'FGF12-AS2': 747, 'CYCSP5': 748, 'GSTM3TV2': 749, 'AATBC': 750, 'LINC-ROR': 751, 'UNC5B-AS1': 752, 'LINC01116': 753, 'CCHE1': 754, 'PYCARD-AS1': 755, 'MEG8': 756, 'SUMO1P4': 757, 'Lnc-SNHG1': 758, 'TCONS_00024652': 759, 'NR2F2-AS1': 760, 'LINC01234': 761, 'lnc-Sox5': 762, 'OVAAL': 763, 'AGER-1': 764, 'AWPPH': 765, 'SLEAR': 766, 'RP11-86H7.1': 767, 'LOC100129148': 768, 'LAMTOR5-AS1': 769, 'NRAD1': 770, 'MYLK-AS1': 771, 'BBOX1-AS1': 772, 'n340790': 773, 'FALEC': 774, 'SH3PXD2A-AS1': 775, 'LINC01352': 776, 'TMPO-AS1': 777, 'PENG': 778, 'FOXP4-AS1': 779, 'lncHERG': 780, 'LINC01354': 781, 'lnc-LYZ-2': 782, 'PGM5-AS1': 783, 'AC010789.1': 784, 'lncRNA625': 785, 'TTTY15': 786, 'PITPNA-AS1': 787, 'LOC730100': 788, 'FAM87A': 789, 'FILNC1': 790, 'SNHG8': 791, 'LNC-LBCS': 792, 'ZFHX4-AS1': 793, 'SCAMP1': 794, 'DLEU1-AS1': 795, 'LINC01050': 796, 'MATN1-AS1': 797, 'TUSC8': 798, 'DRAIC': 799, 'RP11-714G18.1': 800, 'LINC01126': 801, 'RP11-84C13.1': 802, 'FTX': 803, 'LINC00466': 804, 'FAM83H-AS1': 805, 'LOC550643': 806, 'LINC01139': 807, 'LINC02882': 808, 'NRAV': 809, 'ENST00113': 810, 'BOK-AS1': 811, 'CCAT1': 812, 'TCONS_00004099': 813, 'PRKCZ-AS1': 814, 'LINC00922': 815, 'AC114812.8': 816, 'UBA6-DT': 817, 'RP11-445H22.4': 818, 'LINC00342': 819, 'LINC00628': 820, 'LINC00265': 821, 'IGFL2-AS1': 822, 'MRPL23-AS0': 823, 'LINC00673-v4': 824, 'NR4A1AS': 825, 'kcna3': 826, 'MIF-AS1': 827, 'LINC01260': 828, 'NCK-AS1': 829, 'SPAAR': 830, 'LncND': 831, 'EMX2OS': 832, 'EIF3J-DT': 833, 'THCYTX': 834, 'LINC02582': 835, 'RP11-732M18.3': 836, 'LIN28B-AS1': 837, 'TARID': 838, 'SAMD12-AS1': 839, 'THAP7-AS2': 840, 'DSCAM-AS1': 841, 'ZNF281': 842, 'MIR600HG': 843, 'GAS5': 844, 'AK131850': 845, 'lnc-C/EBPbeta': 846, 'loc285194': 847, 'TOB1-AS1': 848, 'EWSAT1': 849, 'SCAMP1-TV2': 850, 'LINC00161': 851, 'LINC00052': 852, 'HIT000218960': 853, 'FENDRR': 854, 'SLC25A15': 855, 'TDRG1': 856, 'PCAT29': 857, 'MAP3K20-AS1': 858, 'MIR570HG': 859, 'lncRSPH9-4': 860, 'RP11-340F14.6': 861, 'SLC8A1-AS1': 862, 'MITF-SOX10': 863, 'RP11-361F15.2': 864, 'RAPIA': 865, 'FTH1P3': 866, 'GMDS-DT': 867, 'ARSR': 868, 'GPNCA': 869, 'FLVCR1-DT': 870, 'lnc005620': 871, 'GAS1RR': 872, 'MYCNOS-01': 873, 'LINC01198': 874, 'PLCD3-OT1': 875, 'SNX20AR': 876, 'LINC00976': 877, 'CIR': 878, 'lnc-ATB': 879, 'TCONS_00016233': 880, 'LINC00336': 881, 'CASC8': 882, 'MKLN1<U+2011>AS': 883, 'TMEM220-AS1': 884, 'FAS-AS1': 885, 'HYOU1-AS': 886, 'AV310809': 887, 'CASC9': 888, 'SND1-IT1': 889, 'RPPH1': 890, 'lncRNA-AC078883.3': 891, 'LINC00994': 892, 'MIR924HG': 893, 'LINC00324': 894, 'LINC00173.v1': 895, 'ciRS-7': 896, 'LINC00504': 897, 'DDX11-AS1': 898, 'LNCOG': 899, 'ZEB1-AS1': 900, 'RBMS3-AS3': 901, 'RP1-86C11.7': 902, 'RNA00887': 903, 'LINC02349': 904, 'RAMS11': 905, 'PCAT1': 906, 'LINC00240': 907, 'SYNE3': 908, 'lnc-ob1': 909, 'GACAT3': 910, 'LINC01857': 911, 'DUXAP10': 912, 'DIO3OS': 913, 'LERFS': 914, 'PAUPAR': 915, 'AFAP1-AS2': 916, 'PD-L1-lnc': 917, 'LINC00519': 918, 'NHEG1': 919, 'LINC00842': 920, 'CYTOR': 921, 'RP11-713B9.1': 922, 'CCAT1-L': 923, 'LINC01672': 924, 'POU6F2-AS2': 925, 'LINC01585': 926, 'NBDY': 927, 'IFNG-AS1': 928, 'PRECSIT': 929, 'AGAP2-AS1': 930, 'F11-AS1': 931, 'CARL': 932, 'lncRNA2448-11': 933, 'LINC00668': 934, 'ZNF407-AS1': 935, 'SLC2A1-DT': 936, 'NDRG1-ot1': 937, 'MCF2L-AS1': 938, 'DNAJC3-DT': 939, 'LOC105375913': 940, 'SAP30-DT': 941, 'NEAT1': 942, 'LINC00525': 943, 'Lnc-NA': 944, 'WT1-AS': 945, 'HHIP<U+2011>AS1': 946, 'LINC01559': 947, 'EPB41L4A-AS1': 948, 'PPP1R13B-DT': 949, 'SNHG10': 950, 'TTN-AS1': 951, 'NORAD': 952, 'lnc-REG3G-3-1': 953, 'LINC02023': 954, 'NKILA': 955, 'SNHG4': 956, 'LINC00242': 957, 'LINC00520': 958, 'LINC01567': 959, 'ZNF205-AS1': 960, 'LINC00526': 961, 'GIHCG': 962, 'LINC00320': 963, 'LINC00958': 964, 'NONRATG019935.2': 965, 'AK136714': 966, 'NEXN-AS1': 967, 'RP11-670E13.6': 968, 'BACE1-AS': 969, 'CRAL': 970, 'C3orf85': 971, 'GATD3': 972, 'MELTF-AS1': 973, 'FGF14-AS2': 974, 'DCXR-DT': 975, 'SPYR4-IT1': 976, 'CLNK': 977, 'FOXCUT': 978, 'CHRNB2': 979, 'MIR205HG': 980, 'MACC1-AS1': 981, 'LINC01121': 982, 'UICLM': 983, 'LINC01305': 984, 'LINC01433': 985, 'CERNA1': 986, 'PTTG3P': 987, 'PDCD4-AS1': 988, 'UCA1': 989, 'ALMS1-IT1': 990, 'LINC01134': 991, 'LINC01939': 992, 'PCGEM1': 993, 'AK022798': 994, 'LINC00423': 995, 'ASB16-AS1': 996, 'LINC01123': 997, 'SCARNA10': 998, 'TMEM75': 999, 'LINC00942': 1000, 'Lnc34a': 1001, 'LINC01436': 1002, 'NUTM2A-AS1': 1003, 'GPC3-AS1': 1004, 'lnc-AL445665.1-4': 1005, 'HOXC13-AS': 1006, 'DNM3OS': 1007, 'LINC00844': 1008, 'ZFAT-AS1': 1009, 'uc061hsf.1': 1010, 'RP11-115N4.1': 1011, 'LINC00483': 1012, 'PART1': 1013, 'PCA3': 1014, 'AK093407': 1015, 'HOXBLINC': 1016, 'FRMD6-AS2': 1017, 'LCAL1': 1018, 'LOC101927497': 1019, 'sONE': 1020, 'ADPGK-AS1': 1021, 'MT1JP': 1022, 'Lnc13': 1023, 'lncRNA-BCAT1': 1024, 'LOC646329': 1025, 'LINC00511': 1026, 'LEGLTBC': 1027, 'PTCSC2': 1028, 'LINC00462': 1029, 'NRSN2-AS1': 1030, 'Chaer': 1031, 'GAU1': 1032, 'PRDM16-DT': 1033, 'TEX41': 1034, 'RP11-820': 1035, 'BISPR': 1036, 'MaTAR25': 1037, 'LOC146880': 1038, 'LncRNA-SARCC': 1039, 'PRR34-AS1': 1040, 'ELNAT1': 1041, 'ASLNCS5088': 1042, 'AB209371': 1043, 'BCAR4': 1044, 'WWTR1-AS1': 1045, 'XLOC_006753': 1046, 'PPM1A-AS': 1047, 'DLX6-AS1': 1048, 'HNF1A-AS1': 1049, 'NCK1-DT': 1050, 'TUG1': 1051, 'LINC00114': 1052, 'PCBP2-OT1': 1053, 'XIST': 1054, 'FGD5-AS1': 1055, 'HOTAIR': 1056, 'HAR2A': 1057, 'WSPAR': 1058, 'LINC01503': 1059, 'LINC01579': 1060, 'PWRN1': 1061, 'AK039862': 1062, 'SFTA3': 1063, 'HOXA-AS2': 1064, 'GAPLINC': 1065, 'CAIF': 1066, 'JPX': 1067, 'CLMAT3': 1068, 'LINC00243': 1069, 'MALAT1': 1070, 'TMPOP2': 1071, 'FOXC2-AS1': 1072, 'GLCC1': 1073, 'NLIPMT': 1074, 'LINC00458': 1075, 'NONHSAT069381': 1076, 'LINC00485': 1077, 'MAFG-DT': 1078, 'LINC01189': 1079, 'GREP1': 1080, 'SNHG5': 1081, 'PVT1-214': 1082, 'MIR2052HG': 1083, 'SNHG18': 1084, 'BDNF-AS': 1085, 'GAS8-AS1': 1086, 'SUMO1P3': 1087, 'SNX17': 1088, 'LEF-AS1': 1089, 'XLOC_008466': 1090, 'C2dat1': 1091, 'lncRNA-LOWEG': 1092, 'TYKRIL': 1093, 'NPTN-IT1': 1094, 'AK097647': 1095, 'HSRL': 1096, 'LINC00115': 1097, 'LINC00299': 1098, 'BTG3-AS1': 1099, 'TSLD8': 1100, 'ETS1-AS1': 1101, 'IGKJ2-MALLP2': 1102, 'lncOGFRP1': 1103, 'GAS6-AS1': 1104, 'HAGLROS': 1105, 'RB1-DT': 1106, 'lnc-DILC': 1107, 'LINC00222': 1108, 'HCG18': 1109, 'RAMP2-AS1': 1110, 'CAVIN2-AS1': 1111, 'HAGLR': 1112, 'MHRT': 1113, 'LINC00645': 1114, 'B3GALT5-AS1': 1115, 'HORAS5': 1116, 'AK094457': 1117, 'LINC01096': 1118, 'WiNTRLINC1': 1119, 'SPRY4-IT1': 1120, 'LNCOC1': 1121, 'LINC01118': 1122, 'LINRIS': 1123, 'snaR': 1124, 'LNCSRLR': 1125, 'Hsp4': 1126, 'FAM83A-AS1': 1127, 'SUMO1P5': 1128, 'TUBA4B': 1129, 'LINC02303': 1130, 'TGFbeta2-AS1': 1131, 'LINC00886': 1132, 'ARHGAP27P1': 1133, 'LINC00313': 1134, 'PARTICL': 1135, 'CCDC80': 1136, 'PRAL': 1137, 'MYCNOS': 1138, 'NONHSAT141924': 1139, 'TCONS_00026907': 1140, 'lnc-SLC4A1-1': 1141, 'MAGI1-IT1': 1142, 'PSTAR': 1143, 'DLEU2': 1144, 'Mirt2': 1145, 'LINC00467': 1146, 'TGLC15': 1147, 'LINC00488': 1148, 'MBNL1-AS1': 1149, 'LINC00472': 1150, 'SLC20A1': 1151, 'SAP30L-AS1': 1152, 'GATA6-AS': 1153, 'SOCS2-AS1': 1154, 'SMIM31': 1155, 'TCONS_00023979': 1156, 'HIF2PUT': 1157, 'EGFR-AS1': 1158, 'ZBTB40-IT1': 1159, 'LINC00163': 1160, 'LncCCAT1': 1161, 'PANDAR': 1162, 'WFDC21P': 1163, 'UBE2CP3-001': 1164, 'LINC-01572:28': 1165, 'RP5-916L7.2': 1166, 'Lnc-Myd88': 1167, 'lncRNA 430945': 1168, 'CASC9-1': 1169, 'TNK2-AS1': 1170, 'RAB5IF': 1171, 'MRCCAT1': 1172, 'SAMD12-AS2': 1173, 'LINC01535': 1174, 'lnc-BMP1-1': 1175, 'NPCCAT1': 1176, 'lncRNA1403': 1177, 'MAGI2-AS': 1178, 'LINC01783': 1179, 'NBR2': 1180, 'PRKCQ-AS1': 1181, 'linc-cdh4-2': 1182, 'LINC01554': 1183, 'LINC00672': 1184, 'APC1': 1185, 'AC078922.1': 1186, 'lnc-ELF209': 1187, 'AY927529': 1188, 'Linc-smad7': 1189, 'CHAST': 1190, 'NOC2L-4.1': 1191, 'RPSAP52': 1192, 'lncRNA-SARCC': 1193, 'ST3GAL6-AS1': 1194, 'LINC00968': 1195, 'RP11-1094M14.8': 1196, 'RP11-279C4.1': 1197, 'LINC00515': 1198, 'lncSHRG': 1199, 'LINC00882': 1200, 'ANCR': 1201, 'MIR100HG': 1202, 'FAM230B': 1203, 'NIFK-AS1': 1204, 'LINC00599': 1205, 'BRE-AS1': 1206, 'linc-223': 1207, 'XLOC_006277': 1208, 'NR_023387': 1209, 'VIM-AS1': 1210, 'RBM33': 1211, 'ENSG00000231881': 1212, 'lncAPP': 1213, 'DALIR': 1214, 'CR594175': 1215, 'TP53TG1': 1216, 'LNMICC': 1217, 'CASC2': 1218, 'NR_002794': 1219, 'lncRNA-TM1P3': 1220, 'MNX1-AS1': 1221, 'RPL34-DT': 1222, 'LINC00470': 1223, 'PSMB8-AS1': 1224, 'SDPR-AS': 1225, 'LINC01013': 1226, 'NONHSAT105177': 1227, 'RP11-317J10.2': 1228, 'IRAIN': 1229, 'MIR124-1HG': 1230, 'CPS1-IT1': 1231, 'HCP5': 1232, 'LINC00691': 1233, 'RP5-833A20.1': 1234, 'EPB41L4A-DT': 1235, 'HAS2-AS1': 1236, 'MRUL': 1237, 'AK001796': 1238, 'ENST': 1239, 'H22954': 1240, 'RP11-79H23.3': 1241, 'FEZF1-AS1': 1242, 'linc-DYNC2H1-4': 1243, 'LOC100507144': 1244, 'VLDLR-AS1': 1245, 'LINC01606': 1246, 'PCSEAT': 1247, 'WEE2-AS1': 1248, 'lncRNA-PE': 1249, 'LINC02862': 1250, 'RP5-1120P11.3': 1251, 'lncRNA SRA': 1252, 'LINC01232': 1253, 'OGFRP1': 1254, 'DQ786243': 1255, 'AOC4P': 1256, 'CASC2c': 1257, 'CAMTA1-DT': 1258, 'LINC02381': 1259, 'n384546': 1260, 'GSC-DT': 1261, 'LINC00961': 1262, 'CLRN1-AS1': 1263, 'BGLT3': 1264, 'LINC00673': 1265, 'LOC401317': 1266, 'HOXA11-AS': 1267, 'CRRL': 1268}\n"
     ]
    }
   ],
   "source": [
    "\n",
    "#Build node name → index mapping\n",
    "lncRNA_index = {row['node']: i for i, row in lnc_df.iterrows()}\n",
    "protein_index = {row['node']: i for i, row in protein_df.iterrows()}\n",
    "\n",
    "print(len(lncRNA_index))\n",
    "print(lncRNA_index)"
   ]
  },
  {
   "cell_type": "code",
   "execution_count": 22,
   "metadata": {},
   "outputs": [
    {
     "name": "stdout",
     "output_type": "stream",
     "text": [
      "12854\n",
      "tensor([[ 0.,  1.],\n",
      "        [ 0.,  1.],\n",
      "        [ 0.,  5.],\n",
      "        ...,\n",
      "        [ 1., 16.],\n",
      "        [ 1.,  2.],\n",
      "        [ 1.,  2.]])\n"
     ]
    }
   ],
   "source": [
    "# === 4. Create HeteroData object ===\n",
    "\n",
    "\n",
    "# type tensor: 0 for lncRNA, 1 for protein\n",
    "# shape: [num_nodes, 1]\n",
    "type_tensor = torch.tensor((all_nodes_df['type'] == 'protein').astype(float).values, dtype=torch.float).unsqueeze(1)  \n",
    "\n",
    "# degree tensor\n",
    "degree_tensor = torch.tensor(all_nodes_df['degree'].values, dtype=torch.float).unsqueeze(1)\n",
    "\n",
    "# Final node feature matrix\n",
    "node_features = torch.cat([type_tensor, degree_tensor], dim=1)\n",
    "\n",
    "print(len(node_features))\n",
    "print(node_features)\n"
   ]
  },
  {
   "cell_type": "code",
   "execution_count": 23,
   "metadata": {},
   "outputs": [
    {
     "name": "stdout",
     "output_type": "stream",
     "text": [
      "1269\n",
      "tensor([[ 0.,  1.],\n",
      "        [ 0.,  1.],\n",
      "        [ 0.,  5.],\n",
      "        ...,\n",
      "        [ 0.,  5.],\n",
      "        [ 0., 50.],\n",
      "        [ 0.,  1.]])\n",
      "11585\n",
      "tensor([[ 1.,  2.],\n",
      "        [ 1., 20.],\n",
      "        [ 1., 46.],\n",
      "        ...,\n",
      "        [ 1., 16.],\n",
      "        [ 1.,  2.],\n",
      "        [ 1.,  2.]])\n"
     ]
    }
   ],
   "source": [
    "## add node features (type + degree)\n",
    "\n",
    "data = HeteroData()\n",
    "data['lncRNA'].x = node_features[all_nodes_df['type'] == 'lncRNA']\n",
    "data['protein'].x = node_features[all_nodes_df['type'] == 'protein']\n",
    "\n",
    "print(len(data['lncRNA'].x))\n",
    "print(data['lncRNA'].x)\n",
    "\n",
    "print(len(data['protein'].x))\n",
    "print(data['protein'].x)"
   ]
  },
  {
   "cell_type": "code",
   "execution_count": 24,
   "metadata": {},
   "outputs": [
    {
     "name": "stdout",
     "output_type": "stream",
     "text": [
      "7635\n",
      "tensor([[  0.,   1., 210.,   1.],\n",
      "        [  2.,   1.,  27.,   2.],\n",
      "        [  0.,   1., 125.,   0.],\n",
      "        ...,\n",
      "        [  0.,   1., 157.,   1.],\n",
      "        [  3.,   1., 136.,   2.],\n",
      "        [  3.,   1.,  84.,   1.]])\n"
     ]
    }
   ],
   "source": [
    "# Add lncRNA–protein edges \n",
    "\n",
    "lp_edge_index = torch.tensor([\n",
    "    [lncRNA_index[src] for src in lp_edges_df['source']],\n",
    "    [protein_index[tgt] for tgt in lp_edges_df['target']]\n",
    "], dtype=torch.long)\n",
    "data['lncRNA', 'interacts', 'protein'].edge_index = lp_edge_index\n",
    "\n",
    "lp_edge_attr = torch.tensor(\n",
    "    lp_edges_df[['mechanism_encoded', 'cancer', 'disease_encoded', 'interaction_encoded']].values,\n",
    "    dtype=torch.float\n",
    ")\n",
    "data['lncRNA', 'interacts', 'protein'].edge_attr = lp_edge_attr\n",
    "\n",
    "print(len(data['lncRNA', 'interacts', 'protein'].edge_attr))\n",
    "print(data['lncRNA', 'interacts', 'protein'].edge_attr)\n"
   ]
  },
  {
   "cell_type": "code",
   "execution_count": 25,
   "metadata": {},
   "outputs": [
    {
     "name": "stdout",
     "output_type": "stream",
     "text": [
      "148992\n",
      "tensor([[794.],\n",
      "        [819.],\n",
      "        [979.],\n",
      "        ...,\n",
      "        [826.],\n",
      "        [766.],\n",
      "        [829.]])\n"
     ]
    }
   ],
   "source": [
    "\n",
    "# === 6. Add protein–protein edges ===\n",
    "\n",
    "ppi_df = ppi_df[ppi_df['source'] != ppi_df['target']]  # Remove self-loops\n",
    "ppi_df = ppi_df[ppi_df['source'].isin(protein_index) & ppi_df['target'].isin(protein_index)]\n",
    "\n",
    "ppi_edge_index = torch.tensor([\n",
    "    [protein_index[src] for src in ppi_df['source']],\n",
    "    [protein_index[tgt] for tgt in ppi_df['target']]\n",
    "], dtype=torch.long)\n",
    "data['protein', 'interacts', 'protein'].edge_index = ppi_edge_index\n",
    "\n",
    "ppi_edge_attr = torch.tensor(ppi_df['score'].values, dtype=torch.float).unsqueeze(1)\n",
    "data['protein', 'interacts', 'protein'].edge_attr = ppi_edge_attr\n",
    "\n",
    "print(len(data['protein', 'interacts', 'protein'].edge_attr))\n",
    "print(data['protein', 'interacts', 'protein'].edge_attr)\n"
   ]
  },
  {
   "cell_type": "code",
   "execution_count": 26,
   "metadata": {},
   "outputs": [
    {
     "name": "stdout",
     "output_type": "stream",
     "text": [
      "tensor([[ 1134,   805,   942,  ...,   257,   330,   476],\n",
      "        [ 7464, 10917,  5586,  ...,  5286,  8632, 10045]])\n",
      "tensor([[ 5471,  7731,  2687,  ...,   132,  3290,  3162],\n",
      "        [ 7670,  7670,  7670,  ...,  5606,  4503, 11478]])\n"
     ]
    }
   ],
   "source": [
    "print(data['lncRNA', 'interacts', 'protein'].edge_index)\n",
    "print(data['protein', 'interacts', 'protein'].edge_index)"
   ]
  },
  {
   "cell_type": "code",
   "execution_count": 28,
   "metadata": {},
   "outputs": [
    {
     "name": "stdout",
     "output_type": "stream",
     "text": [
      "HeteroData(\n",
      "  lncRNA={ x=[1269, 2] },\n",
      "  protein={ x=[11585, 2] },\n",
      "  (lncRNA, interacts, protein)={\n",
      "    edge_index=[2, 7635],\n",
      "    edge_attr=[7635, 4],\n",
      "  },\n",
      "  (protein, interacts, protein)={\n",
      "    edge_index=[2, 148992],\n",
      "    edge_attr=[148992, 1],\n",
      "  }\n",
      ")\n"
     ]
    }
   ],
   "source": [
    "# === Final check ===\n",
    "print(data)"
   ]
  },
  {
   "cell_type": "code",
   "execution_count": 29,
   "metadata": {},
   "outputs": [
    {
     "name": "stdout",
     "output_type": "stream",
     "text": [
      "HeteroData graph saved to: data/combined_dbs_heteroGraph.pt\n"
     ]
    }
   ],
   "source": [
    "# Choose where to save the file\n",
    "save_path = \"data/combined_dbs_heteroGraph.pt\"\n",
    "\n",
    "# Save the HeteroData object\n",
    "torch.save(data, save_path)\n",
    "\n",
    "print(f\"HeteroData graph saved to: {save_path}\")"
   ]
  },
  {
   "cell_type": "code",
   "execution_count": null,
   "metadata": {},
   "outputs": [],
   "source": []
  }
 ],
 "metadata": {
  "kernelspec": {
   "display_name": "Python (GNN Env)",
   "language": "python",
   "name": "gnn_env"
  },
  "language_info": {
   "codemirror_mode": {
    "name": "ipython",
    "version": 3
   },
   "file_extension": ".py",
   "mimetype": "text/x-python",
   "name": "python",
   "nbconvert_exporter": "python",
   "pygments_lexer": "ipython3",
   "version": "3.10.18"
  }
 },
 "nbformat": 4,
 "nbformat_minor": 4
}
